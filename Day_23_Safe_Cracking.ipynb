{
  "nbformat": 4,
  "nbformat_minor": 0,
  "metadata": {
    "colab": {
      "provenance": [],
      "authorship_tag": "ABX9TyOP3+J2NR0TxXmOrOyaSVag",
      "include_colab_link": true
    },
    "kernelspec": {
      "name": "python3",
      "display_name": "Python 3"
    },
    "language_info": {
      "name": "python"
    }
  },
  "cells": [
    {
      "cell_type": "markdown",
      "metadata": {
        "id": "view-in-github",
        "colab_type": "text"
      },
      "source": [
        "<a href=\"https://colab.research.google.com/github/elichen/aoc2016/blob/main/Day_23_Safe_Cracking.ipynb\" target=\"_parent\"><img src=\"https://colab.research.google.com/assets/colab-badge.svg\" alt=\"Open In Colab\"/></a>"
      ]
    },
    {
      "cell_type": "code",
      "source": [
        "data = \"\"\"cpy 2 a\n",
        "tgl a\n",
        "tgl a\n",
        "tgl a\n",
        "cpy 1 a\n",
        "dec a\n",
        "dec a\"\"\".split('\\n')"
      ],
      "metadata": {
        "id": "1l95bUVZw1EL"
      },
      "execution_count": 19,
      "outputs": []
    },
    {
      "cell_type": "code",
      "source": [
        "data = \"\"\"cpy a b\n",
        "dec b\n",
        "cpy a d\n",
        "cpy 0 a\n",
        "cpy b c\n",
        "inc a\n",
        "dec c\n",
        "jnz c -2\n",
        "dec d\n",
        "jnz d -5\n",
        "dec b\n",
        "cpy b c\n",
        "cpy c d\n",
        "dec d\n",
        "inc c\n",
        "jnz d -2\n",
        "tgl c\n",
        "cpy -16 c\n",
        "jnz 1 c\n",
        "cpy 95 c\n",
        "jnz 73 d\n",
        "inc a\n",
        "inc d\n",
        "jnz d -2\n",
        "inc c\n",
        "jnz c -5\"\"\".split('\\n')"
      ],
      "metadata": {
        "id": "BtdWcr-i7Szg"
      },
      "execution_count": 20,
      "outputs": []
    },
    {
      "cell_type": "code",
      "execution_count": 26,
      "metadata": {
        "colab": {
          "base_uri": "https://localhost:8080/"
        },
        "id": "fnSu3Sxhww0f",
        "outputId": "5861e001-0159-4b4f-ff2f-fbdc1d87334f"
      },
      "outputs": [
        {
          "output_type": "execute_result",
          "data": {
            "text/plain": [
              "{'a': 11975, 'b': 1, 'c': 0, 'd': 0}"
            ]
          },
          "metadata": {},
          "execution_count": 26
        }
      ],
      "source": [
        "flip_dict = {\"inc\":\"dec\",\n",
        "             \"dec\":\"inc\",\n",
        "             \"tgl\":\"inc\",\n",
        "             \"jnz\":\"cpy\",\n",
        "             \"cpy\":\"jnz\"}\n",
        "\n",
        "def simulate(instructions, registers = {'a': 0, 'b': 0, 'c': 0, 'd': 0}):\n",
        "    pc = 0  # Program counter\n",
        "\n",
        "    while pc < len(instructions):\n",
        "        # print(instructions[pc], registers)\n",
        "        inst = instructions[pc].split()\n",
        "        op = inst[0]\n",
        "\n",
        "        if op == 'cpy':\n",
        "            x = inst[1]\n",
        "            y = inst[2]\n",
        "            if x.isalpha():\n",
        "                registers[y] = registers[x]\n",
        "            else:\n",
        "                registers[y] = int(x)\n",
        "            pc += 1\n",
        "        elif op == 'inc':\n",
        "            x = inst[1]\n",
        "            registers[x] += 1\n",
        "            pc += 1\n",
        "        elif op == 'dec':\n",
        "            x = inst[1]\n",
        "            registers[x] -= 1\n",
        "            pc += 1\n",
        "        elif op == 'jnz':\n",
        "            x = inst[1]\n",
        "            y = inst[2]\n",
        "            if x.isalpha():\n",
        "                x = registers[x]\n",
        "            else:\n",
        "                x = int(x)\n",
        "            if y.isalpha():\n",
        "                y = registers[y]\n",
        "            else:\n",
        "                y = int(y)\n",
        "            if x != 0:\n",
        "                pc += int(y)\n",
        "            else:\n",
        "                pc += 1\n",
        "        elif op == 'tgl':\n",
        "            x = inst[1]\n",
        "            if x.isalpha():\n",
        "                x = registers[x]\n",
        "            else:\n",
        "                x = int(x)\n",
        "            if pc+x < 0 or pc+x >= len(instructions):\n",
        "              pc += 1\n",
        "              continue\n",
        "            inst = instructions[pc+x].split()\n",
        "            inst[0] = flip_dict[inst[0]]\n",
        "            instructions[pc+x] = \" \".join(inst)\n",
        "            pc += 1\n",
        "        else:\n",
        "            raise ValueError(f\"Unknown instruction: {op}\")\n",
        "\n",
        "    return registers\n",
        "\n",
        "simulate(data.copy(), registers = {'a': 7, 'b': 0, 'c': 0, 'd': 0})"
      ]
    },
    {
      "cell_type": "code",
      "source": [],
      "metadata": {
        "id": "--V6BA317VB4"
      },
      "execution_count": 21,
      "outputs": []
    }
  ]
}