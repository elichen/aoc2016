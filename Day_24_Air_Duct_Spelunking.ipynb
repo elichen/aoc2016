{
  "nbformat": 4,
  "nbformat_minor": 0,
  "metadata": {
    "colab": {
      "provenance": [],
      "authorship_tag": "ABX9TyOsAWkseyrzlx5Vsr2ZxHE9",
      "include_colab_link": true
    },
    "kernelspec": {
      "name": "python3",
      "display_name": "Python 3"
    },
    "language_info": {
      "name": "python"
    }
  },
  "cells": [
    {
      "cell_type": "markdown",
      "metadata": {
        "id": "view-in-github",
        "colab_type": "text"
      },
      "source": [
        "<a href=\"https://colab.research.google.com/github/elichen/aoc2016/blob/main/Day_24_Air_Duct_Spelunking.ipynb\" target=\"_parent\"><img src=\"https://colab.research.google.com/assets/colab-badge.svg\" alt=\"Open In Colab\"/></a>"
      ]
    },
    {
      "cell_type": "code",
      "execution_count": 1,
      "metadata": {
        "id": "A93Roe-ZRD6o"
      },
      "outputs": [],
      "source": [
        "data = \"\"\"###########\n",
        "#0.1.....2#\n",
        "#.#######.#\n",
        "#4.......3#\n",
        "###########\"\"\".split('\\n')"
      ]
    },
    {
      "cell_type": "code",
      "source": [
        "data = open(\"input.txt\").read().splitlines()"
      ],
      "metadata": {
        "id": "Js9QKStDVdW_"
      },
      "execution_count": 30,
      "outputs": []
    },
    {
      "cell_type": "code",
      "source": [
        "from collections import deque\n",
        "\n",
        "def find_nodes(grid):\n",
        "    nodes = {}\n",
        "    for y, row in enumerate(grid):\n",
        "        for x, cell in enumerate(row):\n",
        "            if cell.isdigit():\n",
        "                nodes[int(cell)] = (x, y)\n",
        "    return nodes\n",
        "\n",
        "def bfs(grid, start, target_val):\n",
        "    queue = deque([(start, 0)])\n",
        "    visited = {start}\n",
        "    directions = [(0, 1), (0, -1), (1, 0), (-1, 0)]\n",
        "\n",
        "    while queue:\n",
        "        (x, y), dist = queue.popleft()\n",
        "        if grid[y][x] == target_val:\n",
        "            return dist\n",
        "\n",
        "        for dx, dy in directions:\n",
        "            nx, ny = x + dx, y + dy\n",
        "            if 0 <= nx < len(grid[0]) and 0 <= ny < len(grid) and (grid[ny][nx] == '.' or grid[ny][nx].isdigit()) and (nx, ny) not in visited:\n",
        "                visited.add((nx, ny))\n",
        "                queue.append(((nx, ny), dist + 1))\n",
        "\n",
        "    return float('inf')  # Return an infinite distance if no path is found\n",
        "\n",
        "def node_distances(grid):\n",
        "    nodes = find_nodes(grid)\n",
        "    distances = {}\n",
        "\n",
        "    for src, src_pos in nodes.items():\n",
        "        for dst, dst_pos in nodes.items():\n",
        "            if src < dst:  # Ensure each pair is processed only once\n",
        "                path_len = bfs(grid, src_pos, str(dst))\n",
        "                if path_len != float('inf'):\n",
        "                    distances[frozenset({src, dst})] = path_len\n",
        "\n",
        "    return distances\n",
        "\n",
        "d = node_distances(data)"
      ],
      "metadata": {
        "id": "887e41lgRLnw"
      },
      "execution_count": 31,
      "outputs": []
    },
    {
      "cell_type": "code",
      "source": [
        "nodes = set(node for pair in d for node in pair)\n",
        "fewest = [float('inf')]\n",
        "\n",
        "def dfs(curr, rest, visited, dist):\n",
        "  if not rest:\n",
        "    final = dist+d[frozenset({curr, 0})]\n",
        "    if final < fewest[0]:\n",
        "      fewest[0]= final\n",
        "    return\n",
        "  for n in rest:\n",
        "    dfs(n, frozenset(rest-{n}), frozenset(visited|{n}), dist+d[frozenset({curr, n})])\n",
        "\n",
        "dfs(0, frozenset(nodes-{0}), frozenset(), 0)\n",
        "fewest"
      ],
      "metadata": {
        "colab": {
          "base_uri": "https://localhost:8080/"
        },
        "id": "nobv7qjTTPf7",
        "outputId": "22b59746-ef40-4a55-acb8-4e43aad2dcc4"
      },
      "execution_count": 34,
      "outputs": [
        {
          "output_type": "execute_result",
          "data": {
            "text/plain": [
              "[748]"
            ]
          },
          "metadata": {},
          "execution_count": 34
        }
      ]
    },
    {
      "cell_type": "code",
      "source": [],
      "metadata": {
        "id": "3-cMiD-5Vh8T"
      },
      "execution_count": null,
      "outputs": []
    }
  ]
}