{
  "nbformat": 4,
  "nbformat_minor": 0,
  "metadata": {
    "colab": {
      "provenance": [],
      "authorship_tag": "ABX9TyOiAspuPNB4r1AFsruESwKv",
      "include_colab_link": true
    },
    "kernelspec": {
      "name": "python3",
      "display_name": "Python 3"
    },
    "language_info": {
      "name": "python"
    }
  },
  "cells": [
    {
      "cell_type": "markdown",
      "metadata": {
        "id": "view-in-github",
        "colab_type": "text"
      },
      "source": [
        "<a href=\"https://colab.research.google.com/github/elichen/aoc2016/blob/main/Day_4_Security_Through_Obscurity.ipynb\" target=\"_parent\"><img src=\"https://colab.research.google.com/assets/colab-badge.svg\" alt=\"Open In Colab\"/></a>"
      ]
    },
    {
      "cell_type": "code",
      "source": [
        "data = \"\"\"aaaaa-bbb-z-y-x-123[abxyz]\n",
        "a-b-c-d-e-f-g-h-987[abcde]\n",
        "not-a-real-room-404[oarel]\n",
        "totally-real-room-200[decoy]\"\"\".split('\\n')"
      ],
      "metadata": {
        "id": "3lLBOfWyAVM1"
      },
      "execution_count": 24,
      "outputs": []
    },
    {
      "cell_type": "code",
      "source": [
        "data = [x.rstrip() for x in open(\"input.txt\").readlines()]"
      ],
      "metadata": {
        "id": "t6fOz9c8Apf0"
      },
      "execution_count": 27,
      "outputs": []
    },
    {
      "cell_type": "code",
      "execution_count": 28,
      "metadata": {
        "colab": {
          "base_uri": "https://localhost:8080/"
        },
        "id": "2PVPfZd_9Xb7",
        "outputId": "1c720d15-1504-46a0-e154-2a48272db736"
      },
      "outputs": [
        {
          "output_type": "execute_result",
          "data": {
            "text/plain": [
              "278221"
            ]
          },
          "metadata": {},
          "execution_count": 28
        }
      ],
      "source": [
        "import re\n",
        "from collections import Counter\n",
        "\n",
        "total = 0\n",
        "for s in data:\n",
        "  chksum = re.search(r\"\\[(.*?)\\]\", s).group(1)\n",
        "  name = \"\".join(s.split('-')[:-1])\n",
        "  val = \"\".join([x[0] for x in sorted(Counter(name).items(), key=lambda x: (-x[1], x[0]))[:5]])\n",
        "  id = int(re.findall(r\"-(\\d+)\", s)[-1])\n",
        "  if chksum == val: total += id\n",
        "total"
      ]
    },
    {
      "cell_type": "code",
      "source": [],
      "metadata": {
        "id": "3pE6nloqAspw"
      },
      "execution_count": null,
      "outputs": []
    }
  ]
}