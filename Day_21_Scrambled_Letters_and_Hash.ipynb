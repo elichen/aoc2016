{
  "nbformat": 4,
  "nbformat_minor": 0,
  "metadata": {
    "colab": {
      "provenance": [],
      "authorship_tag": "ABX9TyOdUM1MwJyKmLb+KcgMKxWa",
      "include_colab_link": true
    },
    "kernelspec": {
      "name": "python3",
      "display_name": "Python 3"
    },
    "language_info": {
      "name": "python"
    }
  },
  "cells": [
    {
      "cell_type": "markdown",
      "metadata": {
        "id": "view-in-github",
        "colab_type": "text"
      },
      "source": [
        "<a href=\"https://colab.research.google.com/github/elichen/aoc2016/blob/main/Day_21_Scrambled_Letters_and_Hash.ipynb\" target=\"_parent\"><img src=\"https://colab.research.google.com/assets/colab-badge.svg\" alt=\"Open In Colab\"/></a>"
      ]
    },
    {
      "cell_type": "code",
      "execution_count": 85,
      "metadata": {
        "id": "mztJuitysvD8"
      },
      "outputs": [],
      "source": [
        "data = \"\"\"swap position 4 with position 0\n",
        "swap letter d with letter b\n",
        "reverse positions 0 through 4\n",
        "rotate left 1 step\n",
        "move position 1 to position 4\n",
        "move position 3 to position 0\n",
        "rotate based on position of letter b\n",
        "rotate based on position of letter d\"\"\".split('\\n')"
      ]
    },
    {
      "cell_type": "code",
      "source": [
        "data = open(\"input.txt\").read().splitlines()"
      ],
      "metadata": {
        "id": "vFs23NYW1qJ3"
      },
      "execution_count": 90,
      "outputs": []
    },
    {
      "cell_type": "code",
      "source": [
        "s = list(\"abcdefgh\")\n",
        "for line in data:\n",
        "  l = line.split()\n",
        "  if line.startswith(\"swap position\"):\n",
        "    i1,i2 = int(l[2]), int(l[5])\n",
        "    s[i1],s[i2] = s[i2],s[i1]\n",
        "  elif line.startswith(\"swap letter\"):\n",
        "    c1,c2 = l[2],l[5]\n",
        "    i1,i2 = s.index(c1), s.index(c2)\n",
        "    s[i1],s[i2] = s[i2],s[i1]\n",
        "  elif line.startswith(\"rotate based\"):\n",
        "    c = l[6]\n",
        "    i = s.index(c)\n",
        "    n = 1 + i if i < 4 else 2 + i\n",
        "    n = -(n % len(s))\n",
        "    s = s[n:]+s[:n]\n",
        "  elif line.startswith(\"rotate\"):\n",
        "    dir = 1 if l[1]==\"left\" else -1\n",
        "    n = int(l[2])%len(s) * dir\n",
        "    s = s[n:]+s[:n]\n",
        "  elif line.startswith(\"reverse positions\"):\n",
        "    i1,i2 = int(l[2]), int(l[4])\n",
        "    s = s[:i1] + s[i1:i2+1][::-1] + s[i2+1:]\n",
        "  elif line.startswith(\"move position\"):\n",
        "    i1,i2 = int(l[2]), int(l[5])\n",
        "    c = s.pop(i1)\n",
        "    s.insert(i2, c)\n",
        "  # print(\"\".join(s), line)\n",
        "scrambled = \"\".join(s)\n",
        "scrambled"
      ],
      "metadata": {
        "colab": {
          "base_uri": "https://localhost:8080/",
          "height": 35
        },
        "id": "BStcow_btDum",
        "outputId": "0f257c32-09e4-4df9-d666-0e6579e082d6"
      },
      "execution_count": 94,
      "outputs": [
        {
          "output_type": "execute_result",
          "data": {
            "text/plain": [
              "'gbhafcde'"
            ],
            "application/vnd.google.colaboratory.intrinsic+json": {
              "type": "string"
            }
          },
          "metadata": {},
          "execution_count": 94
        }
      ]
    },
    {
      "cell_type": "code",
      "source": [
        "# s = list(scrambled)\n",
        "s = list(\"fbgdceah\")\n",
        "\n",
        "reverse_map = [None for _ in range(len(s))]\n",
        "for i in range(len(s)):\n",
        "    n = 1 + i if i < 4 else 2 + i\n",
        "    n = -(n % len(s))\n",
        "    reverse_map[(i-n)%len(s)] = -n\n",
        "\n",
        "for line in data[::-1]:\n",
        "  l = line.split()\n",
        "  if line.startswith(\"swap position\"):\n",
        "    i1,i2 = int(l[2]), int(l[5])\n",
        "    s[i1],s[i2] = s[i2],s[i1]\n",
        "  elif line.startswith(\"swap letter\"):\n",
        "    c1,c2 = l[2],l[5]\n",
        "    i1,i2 = s.index(c1), s.index(c2)\n",
        "    s[i1],s[i2] = s[i2],s[i1]\n",
        "  elif line.startswith(\"rotate based\"):\n",
        "    c = l[6]\n",
        "    i = s.index(c)\n",
        "    n = reverse_map[i]\n",
        "    s = s[n:]+s[:n]\n",
        "  elif line.startswith(\"rotate\"):\n",
        "    dir = -1 if l[1]==\"left\" else 1\n",
        "    n = int(l[2])%len(s) * dir\n",
        "    s = s[n:]+s[:n]\n",
        "  elif line.startswith(\"reverse positions\"):\n",
        "    i1,i2 = int(l[2]), int(l[4])\n",
        "    s = s[:i1] + s[i1:i2+1][::-1] + s[i2+1:]\n",
        "  elif line.startswith(\"move position\"):\n",
        "    i1,i2 = int(l[2]), int(l[5])\n",
        "    c = s.pop(i2)\n",
        "    s.insert(i1, c)\n",
        "  # print(\"\".join(s), line)\n",
        "\"\".join(s)"
      ],
      "metadata": {
        "colab": {
          "base_uri": "https://localhost:8080/",
          "height": 35
        },
        "id": "HGTAJuu71xx6",
        "outputId": "8f34dbd4-523c-4a94-eee5-706ab943e594"
      },
      "execution_count": 95,
      "outputs": [
        {
          "output_type": "execute_result",
          "data": {
            "text/plain": [
              "'bcfaegdh'"
            ],
            "application/vnd.google.colaboratory.intrinsic+json": {
              "type": "string"
            }
          },
          "metadata": {},
          "execution_count": 95
        }
      ]
    },
    {
      "cell_type": "code",
      "source": [],
      "metadata": {
        "id": "YQmIGXdHWlCK"
      },
      "execution_count": null,
      "outputs": []
    }
  ]
}