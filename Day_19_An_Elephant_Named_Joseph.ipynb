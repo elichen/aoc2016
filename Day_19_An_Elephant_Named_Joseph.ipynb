{
  "nbformat": 4,
  "nbformat_minor": 0,
  "metadata": {
    "colab": {
      "provenance": [],
      "authorship_tag": "ABX9TyMy+EAYHuKnei7unBhn3rov",
      "include_colab_link": true
    },
    "kernelspec": {
      "name": "python3",
      "display_name": "Python 3"
    },
    "language_info": {
      "name": "python"
    }
  },
  "cells": [
    {
      "cell_type": "markdown",
      "metadata": {
        "id": "view-in-github",
        "colab_type": "text"
      },
      "source": [
        "<a href=\"https://colab.research.google.com/github/elichen/aoc2016/blob/main/Day_19_An_Elephant_Named_Joseph.ipynb\" target=\"_parent\"><img src=\"https://colab.research.google.com/assets/colab-badge.svg\" alt=\"Open In Colab\"/></a>"
      ]
    },
    {
      "cell_type": "code",
      "execution_count": 26,
      "metadata": {
        "colab": {
          "base_uri": "https://localhost:8080/"
        },
        "id": "HEAq6Vn1b3IB",
        "outputId": "81c06d21-72db-4e86-b333-a685cce4fa47"
      },
      "outputs": [
        {
          "output_type": "stream",
          "name": "stdout",
          "text": [
            "[(1, 1)]\n",
            "[(1, 2)]\n",
            "[(3, 3)]\n",
            "[(1, 4)]\n",
            "[(3, 5)]\n",
            "[(5, 6)]\n",
            "[(7, 7)]\n",
            "[(1, 8)]\n",
            "[(3, 9)]\n",
            "[(5, 10)]\n",
            "[(7, 11)]\n",
            "[(9, 12)]\n",
            "[(11, 13)]\n",
            "[(13, 14)]\n",
            "[(15, 15)]\n",
            "[(1, 16)]\n",
            "[(3, 17)]\n",
            "[(5, 18)]\n",
            "[(7, 19)]\n"
          ]
        }
      ],
      "source": [
        "def elves(n):\n",
        "  l = [(i+1,1) for i in range(n)]\n",
        "  i = 0\n",
        "  while len(l)>1:\n",
        "    # print(l, i)\n",
        "    next_i = (i+1)%len(l)\n",
        "    l[i] = l[i][0],l[i][1]+l[next_i][1]\n",
        "    l.pop(next_i)\n",
        "    i = next_i%len(l)\n",
        "  return l\n",
        "\n",
        "for i in range(1,20):\n",
        "  print(elves(i))"
      ]
    },
    {
      "cell_type": "code",
      "source": [
        "import math\n",
        "\n",
        "i = 3014603\n",
        "exp = math.floor(math.log2(i))\n",
        "(i-2**exp)*2+1"
      ],
      "metadata": {
        "colab": {
          "base_uri": "https://localhost:8080/"
        },
        "id": "nXq0ci9ikSRL",
        "outputId": "7fcbc4d1-e220-4395-e568-e7629285b690"
      },
      "execution_count": 23,
      "outputs": [
        {
          "output_type": "execute_result",
          "data": {
            "text/plain": [
              "1834903"
            ]
          },
          "metadata": {},
          "execution_count": 23
        }
      ]
    },
    {
      "cell_type": "code",
      "source": [
        "class Node:\n",
        "    def __init__(self, value):\n",
        "        self.value = value\n",
        "        self.prev = None\n",
        "        self.next = None\n",
        "\n",
        "def remove_node(node):\n",
        "    \"\"\"Remove a node from the doubly linked list.\"\"\"\n",
        "    if node.prev:\n",
        "        node.prev.next = node.next\n",
        "    if node.next:\n",
        "        node.next.prev = node.prev\n",
        "    return node.next if node.next else node.prev\n",
        "\n",
        "def elves2(n):\n",
        "    # Initialize the doubly linked list with nodes\n",
        "    head = Node((1, 1))\n",
        "    last = head\n",
        "    for i in range(2, n + 1):\n",
        "        new_node = Node((i, 1))\n",
        "        last.next = new_node\n",
        "        new_node.prev = last\n",
        "        last = new_node\n",
        "    last.next = head  # Make the list circular\n",
        "    head.prev = last\n",
        "\n",
        "    current = head\n",
        "    opposite = head\n",
        "    # Move opposite to the start position\n",
        "    for _ in range(n // 2):\n",
        "        opposite = opposite.next\n",
        "\n",
        "    while current != current.next:  # More than one node in the list\n",
        "        # Update current node's value\n",
        "        current.value = (current.value[0], current.value[1] + opposite.value[1])\n",
        "        # Remove opposite node and update the opposite pointer\n",
        "        new_opposite = remove_node(opposite)\n",
        "        if current.next == opposite or current == opposite:  # Special case handling\n",
        "            current = current.next\n",
        "        else:\n",
        "            current = current.next\n",
        "        opposite = new_opposite\n",
        "        # Move opposite pointer if n is odd\n",
        "        if n % 2 != 0:\n",
        "            opposite = opposite.next\n",
        "        n -= 1  # Decrease the count of nodes\n",
        "\n",
        "    return [current.value]\n",
        "\n",
        "# Example usage\n",
        "elves2(3014603)"
      ],
      "metadata": {
        "colab": {
          "base_uri": "https://localhost:8080/"
        },
        "id": "WGtgYlNUx3Bx",
        "outputId": "446da3df-83ce-4f2a-ad67-5b85dd4139f0"
      },
      "execution_count": 52,
      "outputs": [
        {
          "output_type": "execute_result",
          "data": {
            "text/plain": [
              "[(1420280, 3014603)]"
            ]
          },
          "metadata": {},
          "execution_count": 52
        }
      ]
    }
  ]
}