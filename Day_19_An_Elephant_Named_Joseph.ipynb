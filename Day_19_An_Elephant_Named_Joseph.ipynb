{
  "nbformat": 4,
  "nbformat_minor": 0,
  "metadata": {
    "colab": {
      "provenance": [],
      "authorship_tag": "ABX9TyM3hnytnQTFSfdiLSo2y4WR",
      "include_colab_link": true
    },
    "kernelspec": {
      "name": "python3",
      "display_name": "Python 3"
    },
    "language_info": {
      "name": "python"
    }
  },
  "cells": [
    {
      "cell_type": "markdown",
      "metadata": {
        "id": "view-in-github",
        "colab_type": "text"
      },
      "source": [
        "<a href=\"https://colab.research.google.com/github/elichen/aoc2016/blob/main/Day_19_An_Elephant_Named_Joseph.ipynb\" target=\"_parent\"><img src=\"https://colab.research.google.com/assets/colab-badge.svg\" alt=\"Open In Colab\"/></a>"
      ]
    },
    {
      "cell_type": "code",
      "execution_count": 26,
      "metadata": {
        "colab": {
          "base_uri": "https://localhost:8080/"
        },
        "id": "HEAq6Vn1b3IB",
        "outputId": "81c06d21-72db-4e86-b333-a685cce4fa47"
      },
      "outputs": [
        {
          "output_type": "stream",
          "name": "stdout",
          "text": [
            "[(1, 1)]\n",
            "[(1, 2)]\n",
            "[(3, 3)]\n",
            "[(1, 4)]\n",
            "[(3, 5)]\n",
            "[(5, 6)]\n",
            "[(7, 7)]\n",
            "[(1, 8)]\n",
            "[(3, 9)]\n",
            "[(5, 10)]\n",
            "[(7, 11)]\n",
            "[(9, 12)]\n",
            "[(11, 13)]\n",
            "[(13, 14)]\n",
            "[(15, 15)]\n",
            "[(1, 16)]\n",
            "[(3, 17)]\n",
            "[(5, 18)]\n",
            "[(7, 19)]\n"
          ]
        }
      ],
      "source": [
        "def elves(n):\n",
        "  l = [(i+1,1) for i in range(n)]\n",
        "  i = 0\n",
        "  while len(l)>1:\n",
        "    # print(l, i)\n",
        "    next_i = (i+1)%len(l)\n",
        "    l[i] = l[i][0],l[i][1]+l[next_i][1]\n",
        "    l.pop(next_i)\n",
        "    i = next_i%len(l)\n",
        "  return l\n",
        "\n",
        "for i in range(1,20):\n",
        "  print(elves(i))"
      ]
    },
    {
      "cell_type": "code",
      "source": [
        "import math\n",
        "\n",
        "i = 3014603\n",
        "exp = math.floor(math.log2(i))\n",
        "(i-2**exp)*2+1"
      ],
      "metadata": {
        "colab": {
          "base_uri": "https://localhost:8080/"
        },
        "id": "nXq0ci9ikSRL",
        "outputId": "7fcbc4d1-e220-4395-e568-e7629285b690"
      },
      "execution_count": 23,
      "outputs": [
        {
          "output_type": "execute_result",
          "data": {
            "text/plain": [
              "1834903"
            ]
          },
          "metadata": {},
          "execution_count": 23
        }
      ]
    }
  ]
}