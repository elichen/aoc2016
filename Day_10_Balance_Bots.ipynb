{
  "nbformat": 4,
  "nbformat_minor": 0,
  "metadata": {
    "colab": {
      "provenance": [],
      "authorship_tag": "ABX9TyP28nZeLJ8Wws3Awv4DYta0",
      "include_colab_link": true
    },
    "kernelspec": {
      "name": "python3",
      "display_name": "Python 3"
    },
    "language_info": {
      "name": "python"
    }
  },
  "cells": [
    {
      "cell_type": "markdown",
      "metadata": {
        "id": "view-in-github",
        "colab_type": "text"
      },
      "source": [
        "<a href=\"https://colab.research.google.com/github/elichen/aoc2016/blob/main/Day_10_Balance_Bots.ipynb\" target=\"_parent\"><img src=\"https://colab.research.google.com/assets/colab-badge.svg\" alt=\"Open In Colab\"/></a>"
      ]
    },
    {
      "cell_type": "code",
      "execution_count": 1,
      "metadata": {
        "id": "nM4IQDwGc8G2"
      },
      "outputs": [],
      "source": [
        "data = \"\"\"value 5 goes to bot 2\n",
        "bot 2 gives low to bot 1 and high to bot 0\n",
        "value 3 goes to bot 1\n",
        "bot 1 gives low to output 1 and high to bot 0\n",
        "bot 0 gives low to output 2 and high to output 0\n",
        "value 2 goes to bot 2\"\"\".split('\\n')"
      ]
    },
    {
      "cell_type": "code",
      "source": [
        "data = open(\"input.txt\").read().splitlines()"
      ],
      "metadata": {
        "id": "rdfrU6vkxVB0"
      },
      "execution_count": 16,
      "outputs": []
    },
    {
      "cell_type": "code",
      "source": [
        "import re\n",
        "\n",
        "rules = {}\n",
        "for line in data:\n",
        "  if line.startswith(\"bot \"):\n",
        "    pattern = r'(bot \\d+|output \\d+)'\n",
        "    bot, lo, hi = re.findall(pattern, line)\n",
        "    rules[bot] = (lo,hi)"
      ],
      "metadata": {
        "id": "jwCEsJ7tdxqY"
      },
      "execution_count": 17,
      "outputs": []
    },
    {
      "cell_type": "code",
      "source": [
        "bots = {}\n",
        "\n",
        "def give(bot, val):\n",
        "    bots[bot] = bots.get(bot, []) + [int(val)]\n",
        "    if len(bots[bot]) > 1:\n",
        "      lo, hi = sorted(bots[bot])\n",
        "      if (lo,hi) == (17,61): print(bot)\n",
        "      bots[bot] = []\n",
        "      give(rules[bot][0], lo)\n",
        "      give(rules[bot][1], hi)\n",
        "\n",
        "for line in data:\n",
        "  if line.startswith(\"value \"):\n",
        "    pattern = r'\\d+|bot \\d+'\n",
        "    val, bot = re.findall(pattern, line)\n",
        "    give(bot, val)"
      ],
      "metadata": {
        "colab": {
          "base_uri": "https://localhost:8080/"
        },
        "id": "_QrpPszxtZ--",
        "outputId": "ff4e48b0-9a2e-4858-af32-48b2a1a51b71"
      },
      "execution_count": 18,
      "outputs": [
        {
          "output_type": "stream",
          "name": "stdout",
          "text": [
            "bot 181\n"
          ]
        }
      ]
    },
    {
      "cell_type": "code",
      "source": [],
      "metadata": {
        "id": "yb65_2Iuxafk"
      },
      "execution_count": null,
      "outputs": []
    }
  ]
}