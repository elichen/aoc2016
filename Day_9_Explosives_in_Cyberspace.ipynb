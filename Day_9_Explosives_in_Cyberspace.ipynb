{
  "nbformat": 4,
  "nbformat_minor": 0,
  "metadata": {
    "colab": {
      "provenance": [],
      "authorship_tag": "ABX9TyNng/HedWBH281/20Zymu+u",
      "include_colab_link": true
    },
    "kernelspec": {
      "name": "python3",
      "display_name": "Python 3"
    },
    "language_info": {
      "name": "python"
    }
  },
  "cells": [
    {
      "cell_type": "markdown",
      "metadata": {
        "id": "view-in-github",
        "colab_type": "text"
      },
      "source": [
        "<a href=\"https://colab.research.google.com/github/elichen/aoc2016/blob/main/Day_9_Explosives_in_Cyberspace.ipynb\" target=\"_parent\"><img src=\"https://colab.research.google.com/assets/colab-badge.svg\" alt=\"Open In Colab\"/></a>"
      ]
    },
    {
      "cell_type": "code",
      "source": [
        "data = open(\"input.txt\").read().splitlines()"
      ],
      "metadata": {
        "id": "XHRDEOwD5VnN"
      },
      "execution_count": 15,
      "outputs": []
    },
    {
      "cell_type": "code",
      "execution_count": 16,
      "metadata": {
        "id": "zO56IKjG1-_O"
      },
      "outputs": [],
      "source": [
        "def decompress(s):\n",
        "  i = 0\n",
        "  res = \"\"\n",
        "  while i < len(s):\n",
        "    if not s[i] == \"(\":\n",
        "      res += s[i]\n",
        "      i += 1\n",
        "      continue\n",
        "    i2 = s.find(\")\", i)\n",
        "    marker = s[i+1:i2]\n",
        "    subs_len, subs_rpt = list(map(int,marker.split(\"x\")))\n",
        "    subs_i = i2+1\n",
        "    subs = s[subs_i:subs_i+subs_len]\n",
        "    res += subs * subs_rpt\n",
        "    i = subs_i+subs_len\n",
        "  return res"
      ]
    },
    {
      "cell_type": "code",
      "source": [
        "total = 0\n",
        "for s in data:\n",
        "  total += len(decompress(s))\n",
        "total"
      ],
      "metadata": {
        "colab": {
          "base_uri": "https://localhost:8080/"
        },
        "id": "vSenbmq85Z99",
        "outputId": "16fb1cff-926f-4a24-a7c2-918329d67d21"
      },
      "execution_count": 17,
      "outputs": [
        {
          "output_type": "execute_result",
          "data": {
            "text/plain": [
              "107035"
            ]
          },
          "metadata": {},
          "execution_count": 17
        }
      ]
    }
  ]
}