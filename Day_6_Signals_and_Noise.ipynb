{
  "nbformat": 4,
  "nbformat_minor": 0,
  "metadata": {
    "colab": {
      "provenance": [],
      "authorship_tag": "ABX9TyMeKJUafrW6DBFYRg0GMfqX",
      "include_colab_link": true
    },
    "kernelspec": {
      "name": "python3",
      "display_name": "Python 3"
    },
    "language_info": {
      "name": "python"
    }
  },
  "cells": [
    {
      "cell_type": "markdown",
      "metadata": {
        "id": "view-in-github",
        "colab_type": "text"
      },
      "source": [
        "<a href=\"https://colab.research.google.com/github/elichen/aoc2016/blob/main/Day_6_Signals_and_Noise.ipynb\" target=\"_parent\"><img src=\"https://colab.research.google.com/assets/colab-badge.svg\" alt=\"Open In Colab\"/></a>"
      ]
    },
    {
      "cell_type": "code",
      "execution_count": 1,
      "metadata": {
        "id": "dwG00zikqmKd"
      },
      "outputs": [],
      "source": [
        "data = \"\"\"eedadn\n",
        "drvtee\n",
        "eandsr\n",
        "raavrd\n",
        "atevrs\n",
        "tsrnev\n",
        "sdttsa\n",
        "rasrtv\n",
        "nssdts\n",
        "ntnada\n",
        "svetve\n",
        "tesnvt\n",
        "vntsnd\n",
        "vrdear\n",
        "dvrsen\n",
        "enarar\"\"\".split('\\n')"
      ]
    },
    {
      "cell_type": "code",
      "source": [
        "data = [x.rstrip() for x in open(\"input.txt\").readlines()]"
      ],
      "metadata": {
        "id": "O7_uVpi9sF6R"
      },
      "execution_count": 25,
      "outputs": []
    },
    {
      "cell_type": "code",
      "source": [
        "from collections import Counter\n",
        "\n",
        "l = [Counter() for _ in range(len(data[0]))]\n",
        "for msg in data:\n",
        "  for i in range(len(msg)):\n",
        "    l[i].update(msg[i])\n",
        "\"\".join([x.most_common(1)[0][0] for x in l])"
      ],
      "metadata": {
        "colab": {
          "base_uri": "https://localhost:8080/",
          "height": 35
        },
        "id": "mzB545lHqptj",
        "outputId": "b7a1d7b5-535a-4f2e-da69-1156d73f014c"
      },
      "execution_count": 26,
      "outputs": [
        {
          "output_type": "execute_result",
          "data": {
            "text/plain": [
              "'umejzgdw'"
            ],
            "application/vnd.google.colaboratory.intrinsic+json": {
              "type": "string"
            }
          },
          "metadata": {},
          "execution_count": 26
        }
      ]
    },
    {
      "cell_type": "code",
      "source": [],
      "metadata": {
        "id": "qqYwXvncsJFi"
      },
      "execution_count": null,
      "outputs": []
    }
  ]
}