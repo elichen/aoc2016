{
  "nbformat": 4,
  "nbformat_minor": 0,
  "metadata": {
    "colab": {
      "provenance": [],
      "authorship_tag": "ABX9TyOFw3GQy5rbzlq4c/VsyTLj",
      "include_colab_link": true
    },
    "kernelspec": {
      "name": "python3",
      "display_name": "Python 3"
    },
    "language_info": {
      "name": "python"
    }
  },
  "cells": [
    {
      "cell_type": "markdown",
      "metadata": {
        "id": "view-in-github",
        "colab_type": "text"
      },
      "source": [
        "<a href=\"https://colab.research.google.com/github/elichen/aoc2016/blob/main/Day_18_Like_a_Rogue.ipynb\" target=\"_parent\"><img src=\"https://colab.research.google.com/assets/colab-badge.svg\" alt=\"Open In Colab\"/></a>"
      ]
    },
    {
      "cell_type": "code",
      "execution_count": 7,
      "metadata": {
        "colab": {
          "base_uri": "https://localhost:8080/"
        },
        "id": "X-olsEeYpWnE",
        "outputId": "fa636c61-4bf4-47b5-8416-747b340e9f7c"
      },
      "outputs": [
        {
          "output_type": "execute_result",
          "data": {
            "text/plain": [
              "1978"
            ]
          },
          "metadata": {},
          "execution_count": 7
        }
      ],
      "source": [
        "def next(row):\n",
        "  ret = \"\"\n",
        "  for i in range(len(row)):\n",
        "    l = row[i-1] if i>0 else \".\"\n",
        "    c = row[i]\n",
        "    r = row[i+1] if i<len(row)-1 else \".\"\n",
        "    if (l == \"^\" and c == \"^\" and r == \".\" or\n",
        "        l == \".\" and c == \"^\" and r == \"^\" or\n",
        "        l == \"^\" and c == \".\" and r == \".\" or\n",
        "        l == \".\" and c == \".\" and r == \"^\"):\n",
        "      ret += \"^\"\n",
        "    else:\n",
        "      ret += \".\"\n",
        "  return ret\n",
        "\n",
        "m = []\n",
        "row = \"^^^^......^...^..^....^^^.^^^.^.^^^^^^..^...^^...^^^.^^....^..^^^.^.^^...^.^...^^.^^^.^^^^.^^.^..^.^\"\n",
        "for _ in range(40):\n",
        "  m.append(row)\n",
        "  row = next(row)\n",
        "sum(row.count('.') for row in m)"
      ]
    }
  ]
}