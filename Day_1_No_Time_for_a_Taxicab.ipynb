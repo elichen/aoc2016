{
  "nbformat": 4,
  "nbformat_minor": 0,
  "metadata": {
    "colab": {
      "provenance": [],
      "authorship_tag": "ABX9TyPhavYkoYgx6StNcN5C9q05",
      "include_colab_link": true
    },
    "kernelspec": {
      "name": "python3",
      "display_name": "Python 3"
    },
    "language_info": {
      "name": "python"
    }
  },
  "cells": [
    {
      "cell_type": "markdown",
      "metadata": {
        "id": "view-in-github",
        "colab_type": "text"
      },
      "source": [
        "<a href=\"https://colab.research.google.com/github/elichen/aoc2016/blob/main/Day_1_No_Time_for_a_Taxicab.ipynb\" target=\"_parent\"><img src=\"https://colab.research.google.com/assets/colab-badge.svg\" alt=\"Open In Colab\"/></a>"
      ]
    },
    {
      "cell_type": "code",
      "execution_count": 34,
      "metadata": {
        "id": "T34TqqIm3E-2"
      },
      "outputs": [],
      "source": [
        "data = \"R8, R4, R4, R8\""
      ]
    },
    {
      "cell_type": "code",
      "source": [
        "data = \"L5, R1, L5, L1, R5, R1, R1, L4, L1, L3, R2, R4, L4, L1, L1, R2, R4, R3, L1, R4, L4, L5, L4, R4, L5, R1, R5, L2, R1, R3, L2, L4, L4, R1, L192, R5, R1, R4, L5, L4, R5, L1, L1, R48, R5, R5, L2, R4, R4, R1, R3, L1, L4, L5, R1, L4, L2, L5, R5, L2, R74, R4, L1, R188, R5, L4, L2, R5, R2, L4, R4, R3, R3, R2, R1, L3, L2, L5, L5, L2, L1, R1, R5, R4, L3, R5, L1, L3, R4, L1, L3, L2, R1, R3, R2, R5, L3, L1, L1, R5, L4, L5, R5, R2, L5, R2, L1, L5, L3, L5, L5, L1, R1, L4, L3, L1, R2, R5, L1, L3, R4, R5, L4, L1, R5, L1, R5, R5, R5, R2, R1, R2, L5, L5, L5, R4, L5, L4, L4, R5, L2, R1, R5, L1, L5, R4, L3, R4, L2, R3, R3, R3, L2, L2, L2, L1, L4, R3, L4, L2, R2, R5, L1, R2\""
      ],
      "metadata": {
        "id": "9_4FWfIJ6z1O"
      },
      "execution_count": 37,
      "outputs": []
    },
    {
      "cell_type": "code",
      "source": [
        "pos = (0,0)\n",
        "dirs = [(0,1), (1,0), (0,-1), (-1,0)]\n",
        "dir = 0\n",
        "for cmd in data.split(\", \"):\n",
        "  c,n = cmd[0], int(cmd[1:])\n",
        "  dir = (dir+1)%4 if c == \"R\" else (dir-1)%4\n",
        "  d = dirs[dir]\n",
        "  pos = (pos[0]+d[0]*n, pos[1]+d[1]*n)\n",
        "abs(pos[0])+abs(pos[1])"
      ],
      "metadata": {
        "colab": {
          "base_uri": "https://localhost:8080/"
        },
        "id": "xBqcGoXM3J2l",
        "outputId": "e5452e5d-1623-4934-e2f1-4a0707e188a8"
      },
      "execution_count": 28,
      "outputs": [
        {
          "output_type": "execute_result",
          "data": {
            "text/plain": [
              "226"
            ]
          },
          "metadata": {},
          "execution_count": 28
        }
      ]
    },
    {
      "cell_type": "code",
      "source": [
        "def calc():\n",
        "  pos = (0,0)\n",
        "  dirs = [(0,1), (1,0), (0,-1), (-1,0)]\n",
        "  dir = 0\n",
        "  seen = {pos}\n",
        "  for cmd in data.split(\", \"):\n",
        "    c,n = cmd[0], int(cmd[1:])\n",
        "    dir = (dir+1)%4 if c == \"R\" else (dir-1)%4\n",
        "    d = dirs[dir]\n",
        "    for _ in range(n):\n",
        "      pos = (pos[0]+d[0], pos[1]+d[1])\n",
        "      # print(pos)\n",
        "      if pos in seen:\n",
        "        return pos\n",
        "      else:\n",
        "        seen.add(pos)\n",
        "pos = calc()\n",
        "abs(pos[0])+abs(pos[1])"
      ],
      "metadata": {
        "colab": {
          "base_uri": "https://localhost:8080/"
        },
        "id": "rEJQMzuM5u_i",
        "outputId": "498408d6-618a-406c-bc56-6d4698d9a9f4"
      },
      "execution_count": 41,
      "outputs": [
        {
          "output_type": "execute_result",
          "data": {
            "text/plain": [
              "79"
            ]
          },
          "metadata": {},
          "execution_count": 41
        }
      ]
    }
  ]
}