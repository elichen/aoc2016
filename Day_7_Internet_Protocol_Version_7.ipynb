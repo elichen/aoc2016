{
  "nbformat": 4,
  "nbformat_minor": 0,
  "metadata": {
    "colab": {
      "provenance": [],
      "authorship_tag": "ABX9TyM07nrZw99iOSyBwv5ZecYZ",
      "include_colab_link": true
    },
    "kernelspec": {
      "name": "python3",
      "display_name": "Python 3"
    },
    "language_info": {
      "name": "python"
    }
  },
  "cells": [
    {
      "cell_type": "markdown",
      "metadata": {
        "id": "view-in-github",
        "colab_type": "text"
      },
      "source": [
        "<a href=\"https://colab.research.google.com/github/elichen/aoc2016/blob/main/Day_7_Internet_Protocol_Version_7.ipynb\" target=\"_parent\"><img src=\"https://colab.research.google.com/assets/colab-badge.svg\" alt=\"Open In Colab\"/></a>"
      ]
    },
    {
      "cell_type": "code",
      "source": [
        "import re"
      ],
      "metadata": {
        "id": "cFQacb1o79Uj"
      },
      "execution_count": 33,
      "outputs": []
    },
    {
      "cell_type": "code",
      "source": [
        "data = [x.rstrip() for x in open(\"input.txt\").readlines()]"
      ],
      "metadata": {
        "id": "5gf1h4zF6Ty3"
      },
      "execution_count": 34,
      "outputs": []
    },
    {
      "cell_type": "code",
      "source": [
        "def is_abba(s):\n",
        "  i = 0\n",
        "  while i+3 < len(s):\n",
        "    if s[i] != s[i+1] and s[i] == s[i+3] and s[i+1] == s[i+2]:\n",
        "      return True\n",
        "    i += 1\n",
        "  return False"
      ],
      "metadata": {
        "id": "zjzov3TH48gW"
      },
      "execution_count": 35,
      "outputs": []
    },
    {
      "cell_type": "code",
      "execution_count": 36,
      "metadata": {
        "id": "acPA_9wq3ipC"
      },
      "outputs": [],
      "source": [
        "def is_tls(s):\n",
        "  outside_brackets = re.findall(r'[^\\[\\]]+(?=\\[|$)', s)\n",
        "  inside_brackets = re.findall(r'\\[(.*?)\\]', s)\n",
        "  return any(is_abba(x) for x in outside_brackets) and not any(is_abba(x) for x in inside_brackets)"
      ]
    },
    {
      "cell_type": "code",
      "source": [
        "total = 0\n",
        "for s in data:\n",
        "  if is_tls(s): total += 1\n",
        "total"
      ],
      "metadata": {
        "colab": {
          "base_uri": "https://localhost:8080/"
        },
        "id": "qzkYE8QW6NT1",
        "outputId": "851e6ede-0dcc-43d1-e87e-10409b063f06"
      },
      "execution_count": 37,
      "outputs": [
        {
          "output_type": "execute_result",
          "data": {
            "text/plain": [
              "118"
            ]
          },
          "metadata": {},
          "execution_count": 37
        }
      ]
    },
    {
      "cell_type": "code",
      "source": [
        "def get_aba(s):\n",
        "  i = 0\n",
        "  ret = set()\n",
        "  while i+2 < len(s):\n",
        "    if s[i] != s[i+1] and s[i] == s[i+2]:\n",
        "      ret.add((s[i],s[i+1]))\n",
        "    i += 1\n",
        "  return ret\n",
        "\n",
        "def is_ssl(s):\n",
        "  outside_brackets = re.findall(r'[^\\[\\]]+(?=\\[|$)', s)\n",
        "  abas = set.union(*(get_aba(x) for x in outside_brackets))\n",
        "  inside_brackets = re.findall(r'\\[(.*?)\\]', s)\n",
        "  babs = set.union(*(get_aba(x) for x in inside_brackets))\n",
        "  babs = {tuple(reversed(t)) for t in babs}\n",
        "  return not abas.isdisjoint(babs)\n",
        "\n",
        "total = 0\n",
        "for s in data:\n",
        "  if is_ssl(s): total += 1\n",
        "total"
      ],
      "metadata": {
        "colab": {
          "base_uri": "https://localhost:8080/"
        },
        "id": "PD3P2-f473A9",
        "outputId": "43b73f2f-162e-472a-c14c-2d86fe1605f2"
      },
      "execution_count": 64,
      "outputs": [
        {
          "output_type": "execute_result",
          "data": {
            "text/plain": [
              "260"
            ]
          },
          "metadata": {},
          "execution_count": 64
        }
      ]
    }
  ]
}