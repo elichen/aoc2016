{
  "nbformat": 4,
  "nbformat_minor": 0,
  "metadata": {
    "colab": {
      "provenance": [],
      "authorship_tag": "ABX9TyPezNrU+oFgCrR+wbgWmocB",
      "include_colab_link": true
    },
    "kernelspec": {
      "name": "python3",
      "display_name": "Python 3"
    },
    "language_info": {
      "name": "python"
    }
  },
  "cells": [
    {
      "cell_type": "markdown",
      "metadata": {
        "id": "view-in-github",
        "colab_type": "text"
      },
      "source": [
        "<a href=\"https://colab.research.google.com/github/elichen/aoc2016/blob/main/Day_3_Squares_With_Three_Sides.ipynb\" target=\"_parent\"><img src=\"https://colab.research.google.com/assets/colab-badge.svg\" alt=\"Open In Colab\"/></a>"
      ]
    },
    {
      "cell_type": "code",
      "execution_count": 3,
      "metadata": {
        "id": "xrOQlcH1r11O"
      },
      "outputs": [],
      "source": [
        "def valid(sides):\n",
        "  return sides[0]+sides[1] > sides[2] and sides[0]+sides[2] > sides[1] and sides[1]+sides[2] > sides[0]"
      ]
    },
    {
      "cell_type": "code",
      "source": [
        "data = [x.rstrip() for x in open(\"input.txt\").readlines()]"
      ],
      "metadata": {
        "id": "Dbzd0KOpscra"
      },
      "execution_count": 4,
      "outputs": []
    },
    {
      "cell_type": "code",
      "source": [
        "total = 0\n",
        "for line in data:\n",
        "  if valid(list(map(int,line.split()))): total += 1\n",
        "total"
      ],
      "metadata": {
        "colab": {
          "base_uri": "https://localhost:8080/"
        },
        "id": "iGfiAwA3smIn",
        "outputId": "b4cec63f-b7af-49be-ca1e-4b183ad54b7c"
      },
      "execution_count": 5,
      "outputs": [
        {
          "output_type": "execute_result",
          "data": {
            "text/plain": [
              "862"
            ]
          },
          "metadata": {},
          "execution_count": 5
        }
      ]
    },
    {
      "cell_type": "code",
      "source": [
        "l = [list(map(int,line.split())) for line in data]\n",
        "total = 0\n",
        "for col in range(3):\n",
        "  for row in range(0,len(l),3):\n",
        "    if valid([l[row][col],l[row+1][col],l[row+2][col]]): total += 1\n",
        "total"
      ],
      "metadata": {
        "colab": {
          "base_uri": "https://localhost:8080/"
        },
        "id": "csovRd3QtNVA",
        "outputId": "41a97b7c-3cfb-4ae9-9606-bb2e60d00836"
      },
      "execution_count": 17,
      "outputs": [
        {
          "output_type": "execute_result",
          "data": {
            "text/plain": [
              "1577"
            ]
          },
          "metadata": {},
          "execution_count": 17
        }
      ]
    }
  ]
}