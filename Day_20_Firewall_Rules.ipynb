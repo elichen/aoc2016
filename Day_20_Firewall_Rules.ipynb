{
  "nbformat": 4,
  "nbformat_minor": 0,
  "metadata": {
    "colab": {
      "provenance": [],
      "authorship_tag": "ABX9TyMbILV7yQAeoMPW+YTSXXJi",
      "include_colab_link": true
    },
    "kernelspec": {
      "name": "python3",
      "display_name": "Python 3"
    },
    "language_info": {
      "name": "python"
    }
  },
  "cells": [
    {
      "cell_type": "markdown",
      "metadata": {
        "id": "view-in-github",
        "colab_type": "text"
      },
      "source": [
        "<a href=\"https://colab.research.google.com/github/elichen/aoc2016/blob/main/Day_20_Firewall_Rules.ipynb\" target=\"_parent\"><img src=\"https://colab.research.google.com/assets/colab-badge.svg\" alt=\"Open In Colab\"/></a>"
      ]
    },
    {
      "cell_type": "code",
      "execution_count": 21,
      "metadata": {
        "id": "Uec2vXTJmyQj"
      },
      "outputs": [],
      "source": [
        "data = \"\"\"5-8\n",
        "0-2\n",
        "4-7\"\"\".split('\\n')"
      ]
    },
    {
      "cell_type": "code",
      "source": [
        "data = open(\"input.txt\").read().splitlines()"
      ],
      "metadata": {
        "id": "JsPmvFskyhE_"
      },
      "execution_count": 22,
      "outputs": []
    },
    {
      "cell_type": "code",
      "source": [
        "l = []\n",
        "for line in data:\n",
        "  b,g = list(map(int,line.split('-')))\n",
        "  l.append((b,g))\n",
        "l = sorted(l, key=lambda x:x[0])"
      ],
      "metadata": {
        "id": "hp2I_o0ow4Nj"
      },
      "execution_count": 23,
      "outputs": []
    },
    {
      "cell_type": "code",
      "source": [
        "def search():\n",
        "  n = 0\n",
        "  for b,g in l:\n",
        "    if n < b:\n",
        "      return n\n",
        "    if g>n: n = g+1\n",
        "search()"
      ],
      "metadata": {
        "colab": {
          "base_uri": "https://localhost:8080/"
        },
        "id": "rbcpXTmex2ay",
        "outputId": "59d1e90f-6482-43b0-d1e2-dbabcaaffa6d"
      },
      "execution_count": 24,
      "outputs": [
        {
          "output_type": "execute_result",
          "data": {
            "text/plain": [
              "31053880"
            ]
          },
          "metadata": {},
          "execution_count": 24
        }
      ]
    },
    {
      "cell_type": "code",
      "source": [
        "def search2():\n",
        "  n = 0\n",
        "  res = []\n",
        "  for b,g in l:\n",
        "    if n < b:\n",
        "      res.append((n,b-1))\n",
        "    if g>n: n = g+1\n",
        "  return res\n",
        "\n",
        "r = search2()\n",
        "sum(x[1]-x[0]+1 for x in r)"
      ],
      "metadata": {
        "colab": {
          "base_uri": "https://localhost:8080/"
        },
        "id": "pkvj_OpAyquu",
        "outputId": "bec551ca-818a-4e2e-e456-41514e5a6391"
      },
      "execution_count": 25,
      "outputs": [
        {
          "output_type": "execute_result",
          "data": {
            "text/plain": [
              "117"
            ]
          },
          "metadata": {},
          "execution_count": 25
        }
      ]
    }
  ]
}