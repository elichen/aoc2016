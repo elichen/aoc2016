{
  "nbformat": 4,
  "nbformat_minor": 0,
  "metadata": {
    "colab": {
      "provenance": [],
      "authorship_tag": "ABX9TyO00A/V39cjwT8VK00/72rQ",
      "include_colab_link": true
    },
    "kernelspec": {
      "name": "python3",
      "display_name": "Python 3"
    },
    "language_info": {
      "name": "python"
    },
    "widgets": {
      "application/vnd.jupyter.widget-state+json": {
        "072c9c4a41944cc498a6fb6496787fb3": {
          "model_module": "@jupyter-widgets/controls",
          "model_name": "HBoxModel",
          "model_module_version": "1.5.0",
          "state": {
            "_dom_classes": [],
            "_model_module": "@jupyter-widgets/controls",
            "_model_module_version": "1.5.0",
            "_model_name": "HBoxModel",
            "_view_count": null,
            "_view_module": "@jupyter-widgets/controls",
            "_view_module_version": "1.5.0",
            "_view_name": "HBoxView",
            "box_style": "",
            "children": [
              "IPY_MODEL_1832a033b18d4a08bfd30ceb1a2e5e1c",
              "IPY_MODEL_3bc6515796c04a2987bb7fbbadfa02a9",
              "IPY_MODEL_055436b01dcc42439ac73f4c36edd558"
            ],
            "layout": "IPY_MODEL_b5069aaca6ef4df8858006fdd6da1c6c"
          }
        },
        "1832a033b18d4a08bfd30ceb1a2e5e1c": {
          "model_module": "@jupyter-widgets/controls",
          "model_name": "HTMLModel",
          "model_module_version": "1.5.0",
          "state": {
            "_dom_classes": [],
            "_model_module": "@jupyter-widgets/controls",
            "_model_module_version": "1.5.0",
            "_model_name": "HTMLModel",
            "_view_count": null,
            "_view_module": "@jupyter-widgets/controls",
            "_view_module_version": "1.5.0",
            "_view_name": "HTMLView",
            "description": "",
            "description_tooltip": null,
            "layout": "IPY_MODEL_a66285ed107b4a178cde2f67190f4394",
            "placeholder": "​",
            "style": "IPY_MODEL_1512773a06764962acdd52cc2e8d8bcd",
            "value": "  0%"
          }
        },
        "3bc6515796c04a2987bb7fbbadfa02a9": {
          "model_module": "@jupyter-widgets/controls",
          "model_name": "FloatProgressModel",
          "model_module_version": "1.5.0",
          "state": {
            "_dom_classes": [],
            "_model_module": "@jupyter-widgets/controls",
            "_model_module_version": "1.5.0",
            "_model_name": "FloatProgressModel",
            "_view_count": null,
            "_view_module": "@jupyter-widgets/controls",
            "_view_module_version": "1.5.0",
            "_view_name": "ProgressView",
            "bar_style": "danger",
            "description": "",
            "description_tooltip": null,
            "layout": "IPY_MODEL_7071560e347e4d4782fd1df8c2aeaa53",
            "max": 100000,
            "min": 0,
            "orientation": "horizontal",
            "style": "IPY_MODEL_c35fa100cdf84a29a96886ba4ddf8825",
            "value": 198
          }
        },
        "055436b01dcc42439ac73f4c36edd558": {
          "model_module": "@jupyter-widgets/controls",
          "model_name": "HTMLModel",
          "model_module_version": "1.5.0",
          "state": {
            "_dom_classes": [],
            "_model_module": "@jupyter-widgets/controls",
            "_model_module_version": "1.5.0",
            "_model_name": "HTMLModel",
            "_view_count": null,
            "_view_module": "@jupyter-widgets/controls",
            "_view_module_version": "1.5.0",
            "_view_name": "HTMLView",
            "description": "",
            "description_tooltip": null,
            "layout": "IPY_MODEL_0eeefe9086d441a0b3be128650e2eef7",
            "placeholder": "​",
            "style": "IPY_MODEL_7309194ed48f440cbf117aa5da78a776",
            "value": " 198/100000 [00:00&lt;00:21, 4599.93it/s]"
          }
        },
        "b5069aaca6ef4df8858006fdd6da1c6c": {
          "model_module": "@jupyter-widgets/base",
          "model_name": "LayoutModel",
          "model_module_version": "1.2.0",
          "state": {
            "_model_module": "@jupyter-widgets/base",
            "_model_module_version": "1.2.0",
            "_model_name": "LayoutModel",
            "_view_count": null,
            "_view_module": "@jupyter-widgets/base",
            "_view_module_version": "1.2.0",
            "_view_name": "LayoutView",
            "align_content": null,
            "align_items": null,
            "align_self": null,
            "border": null,
            "bottom": null,
            "display": null,
            "flex": null,
            "flex_flow": null,
            "grid_area": null,
            "grid_auto_columns": null,
            "grid_auto_flow": null,
            "grid_auto_rows": null,
            "grid_column": null,
            "grid_gap": null,
            "grid_row": null,
            "grid_template_areas": null,
            "grid_template_columns": null,
            "grid_template_rows": null,
            "height": null,
            "justify_content": null,
            "justify_items": null,
            "left": null,
            "margin": null,
            "max_height": null,
            "max_width": null,
            "min_height": null,
            "min_width": null,
            "object_fit": null,
            "object_position": null,
            "order": null,
            "overflow": null,
            "overflow_x": null,
            "overflow_y": null,
            "padding": null,
            "right": null,
            "top": null,
            "visibility": null,
            "width": null
          }
        },
        "a66285ed107b4a178cde2f67190f4394": {
          "model_module": "@jupyter-widgets/base",
          "model_name": "LayoutModel",
          "model_module_version": "1.2.0",
          "state": {
            "_model_module": "@jupyter-widgets/base",
            "_model_module_version": "1.2.0",
            "_model_name": "LayoutModel",
            "_view_count": null,
            "_view_module": "@jupyter-widgets/base",
            "_view_module_version": "1.2.0",
            "_view_name": "LayoutView",
            "align_content": null,
            "align_items": null,
            "align_self": null,
            "border": null,
            "bottom": null,
            "display": null,
            "flex": null,
            "flex_flow": null,
            "grid_area": null,
            "grid_auto_columns": null,
            "grid_auto_flow": null,
            "grid_auto_rows": null,
            "grid_column": null,
            "grid_gap": null,
            "grid_row": null,
            "grid_template_areas": null,
            "grid_template_columns": null,
            "grid_template_rows": null,
            "height": null,
            "justify_content": null,
            "justify_items": null,
            "left": null,
            "margin": null,
            "max_height": null,
            "max_width": null,
            "min_height": null,
            "min_width": null,
            "object_fit": null,
            "object_position": null,
            "order": null,
            "overflow": null,
            "overflow_x": null,
            "overflow_y": null,
            "padding": null,
            "right": null,
            "top": null,
            "visibility": null,
            "width": null
          }
        },
        "1512773a06764962acdd52cc2e8d8bcd": {
          "model_module": "@jupyter-widgets/controls",
          "model_name": "DescriptionStyleModel",
          "model_module_version": "1.5.0",
          "state": {
            "_model_module": "@jupyter-widgets/controls",
            "_model_module_version": "1.5.0",
            "_model_name": "DescriptionStyleModel",
            "_view_count": null,
            "_view_module": "@jupyter-widgets/base",
            "_view_module_version": "1.2.0",
            "_view_name": "StyleView",
            "description_width": ""
          }
        },
        "7071560e347e4d4782fd1df8c2aeaa53": {
          "model_module": "@jupyter-widgets/base",
          "model_name": "LayoutModel",
          "model_module_version": "1.2.0",
          "state": {
            "_model_module": "@jupyter-widgets/base",
            "_model_module_version": "1.2.0",
            "_model_name": "LayoutModel",
            "_view_count": null,
            "_view_module": "@jupyter-widgets/base",
            "_view_module_version": "1.2.0",
            "_view_name": "LayoutView",
            "align_content": null,
            "align_items": null,
            "align_self": null,
            "border": null,
            "bottom": null,
            "display": null,
            "flex": null,
            "flex_flow": null,
            "grid_area": null,
            "grid_auto_columns": null,
            "grid_auto_flow": null,
            "grid_auto_rows": null,
            "grid_column": null,
            "grid_gap": null,
            "grid_row": null,
            "grid_template_areas": null,
            "grid_template_columns": null,
            "grid_template_rows": null,
            "height": null,
            "justify_content": null,
            "justify_items": null,
            "left": null,
            "margin": null,
            "max_height": null,
            "max_width": null,
            "min_height": null,
            "min_width": null,
            "object_fit": null,
            "object_position": null,
            "order": null,
            "overflow": null,
            "overflow_x": null,
            "overflow_y": null,
            "padding": null,
            "right": null,
            "top": null,
            "visibility": null,
            "width": null
          }
        },
        "c35fa100cdf84a29a96886ba4ddf8825": {
          "model_module": "@jupyter-widgets/controls",
          "model_name": "ProgressStyleModel",
          "model_module_version": "1.5.0",
          "state": {
            "_model_module": "@jupyter-widgets/controls",
            "_model_module_version": "1.5.0",
            "_model_name": "ProgressStyleModel",
            "_view_count": null,
            "_view_module": "@jupyter-widgets/base",
            "_view_module_version": "1.2.0",
            "_view_name": "StyleView",
            "bar_color": null,
            "description_width": ""
          }
        },
        "0eeefe9086d441a0b3be128650e2eef7": {
          "model_module": "@jupyter-widgets/base",
          "model_name": "LayoutModel",
          "model_module_version": "1.2.0",
          "state": {
            "_model_module": "@jupyter-widgets/base",
            "_model_module_version": "1.2.0",
            "_model_name": "LayoutModel",
            "_view_count": null,
            "_view_module": "@jupyter-widgets/base",
            "_view_module_version": "1.2.0",
            "_view_name": "LayoutView",
            "align_content": null,
            "align_items": null,
            "align_self": null,
            "border": null,
            "bottom": null,
            "display": null,
            "flex": null,
            "flex_flow": null,
            "grid_area": null,
            "grid_auto_columns": null,
            "grid_auto_flow": null,
            "grid_auto_rows": null,
            "grid_column": null,
            "grid_gap": null,
            "grid_row": null,
            "grid_template_areas": null,
            "grid_template_columns": null,
            "grid_template_rows": null,
            "height": null,
            "justify_content": null,
            "justify_items": null,
            "left": null,
            "margin": null,
            "max_height": null,
            "max_width": null,
            "min_height": null,
            "min_width": null,
            "object_fit": null,
            "object_position": null,
            "order": null,
            "overflow": null,
            "overflow_x": null,
            "overflow_y": null,
            "padding": null,
            "right": null,
            "top": null,
            "visibility": null,
            "width": null
          }
        },
        "7309194ed48f440cbf117aa5da78a776": {
          "model_module": "@jupyter-widgets/controls",
          "model_name": "DescriptionStyleModel",
          "model_module_version": "1.5.0",
          "state": {
            "_model_module": "@jupyter-widgets/controls",
            "_model_module_version": "1.5.0",
            "_model_name": "DescriptionStyleModel",
            "_view_count": null,
            "_view_module": "@jupyter-widgets/base",
            "_view_module_version": "1.2.0",
            "_view_name": "StyleView",
            "description_width": ""
          }
        }
      }
    }
  },
  "cells": [
    {
      "cell_type": "markdown",
      "metadata": {
        "id": "view-in-github",
        "colab_type": "text"
      },
      "source": [
        "<a href=\"https://colab.research.google.com/github/elichen/aoc2016/blob/main/Day_25_Clock_Signal.ipynb\" target=\"_parent\"><img src=\"https://colab.research.google.com/assets/colab-badge.svg\" alt=\"Open In Colab\"/></a>"
      ]
    },
    {
      "cell_type": "code",
      "source": [
        "from tqdm.notebook import tqdm"
      ],
      "metadata": {
        "id": "_eXGkloTABIJ"
      },
      "execution_count": 98,
      "outputs": []
    },
    {
      "cell_type": "code",
      "source": [
        "data = \"\"\"cpy a d\n",
        "cpy 4 c\n",
        "cpy 633 b\n",
        "inc d\n",
        "dec b\n",
        "jnz b -2\n",
        "dec c\n",
        "jnz c -5\n",
        "cpy d a\n",
        "jnz 0 0\n",
        "cpy a b\n",
        "cpy 0 a\n",
        "cpy 2 c\n",
        "jnz b 2\n",
        "jnz 1 6\n",
        "dec b\n",
        "dec c\n",
        "jnz c -4\n",
        "inc a\n",
        "jnz 1 -7\n",
        "cpy 2 b\n",
        "jnz c 2\n",
        "jnz 1 4\n",
        "dec b\n",
        "dec c\n",
        "jnz 1 -4\n",
        "jnz 0 0\n",
        "out b\n",
        "jnz a -19\n",
        "jnz 1 -21\"\"\".split('\\n')"
      ],
      "metadata": {
        "id": "1l95bUVZw1EL"
      },
      "execution_count": 99,
      "outputs": []
    },
    {
      "cell_type": "code",
      "execution_count": 100,
      "metadata": {
        "id": "fnSu3Sxhww0f"
      },
      "outputs": [],
      "source": [
        "flip_dict = {\"inc\":\"dec\",\n",
        "             \"dec\":\"inc\",\n",
        "             \"tgl\":\"inc\",\n",
        "             \"jnz\":\"cpy\",\n",
        "             \"cpy\":\"jnz\"}\n",
        "out = []\n",
        "\n",
        "def simulate(instructions, registers = {'a': 0, 'b': 0, 'c': 0, 'd': 0}, cycle_limit=float(\"inf\"), debug=False):\n",
        "    pc = 0  # Program counter\n",
        "    cycles = 0\n",
        "\n",
        "    while pc < len(instructions) and cycles<cycle_limit:\n",
        "        cycles += 1\n",
        "        if debug and pc > 19: print(pc, instructions[pc], registers)\n",
        "        inst = instructions[pc].split()\n",
        "        op = inst[0]\n",
        "\n",
        "        if op == 'cpy':\n",
        "            x = inst[1]\n",
        "            y = inst[2]\n",
        "            if x.isalpha():\n",
        "                registers[y] = registers[x]\n",
        "            else:\n",
        "                registers[y] = int(x)\n",
        "            pc += 1\n",
        "        elif op == 'inc':\n",
        "            x = inst[1]\n",
        "            registers[x] += 1\n",
        "            pc += 1\n",
        "        elif op == 'dec':\n",
        "            x = inst[1]\n",
        "            registers[x] -= 1\n",
        "            pc += 1\n",
        "        elif op == 'jnz':\n",
        "            x = inst[1]\n",
        "            y = inst[2]\n",
        "            if x.isalpha():\n",
        "                x = registers[x]\n",
        "            else:\n",
        "                x = int(x)\n",
        "            if y.isalpha():\n",
        "                y = registers[y]\n",
        "            else:\n",
        "                y = int(y)\n",
        "            if x != 0:\n",
        "                pc += int(y)\n",
        "            else:\n",
        "                pc += 1\n",
        "        elif op == 'tgl':\n",
        "            x = inst[1]\n",
        "            if x.isalpha():\n",
        "                x = registers[x]\n",
        "            else:\n",
        "                x = int(x)\n",
        "            if pc+x < 0 or pc+x >= len(instructions):\n",
        "              pc += 1\n",
        "              continue\n",
        "            inst = instructions[pc+x].split()\n",
        "            inst[0] = flip_dict[inst[0]]\n",
        "            instructions[pc+x] = \" \".join(inst)\n",
        "            pc += 1\n",
        "        elif op == 'out':\n",
        "            x = inst[1]\n",
        "            if x.isalpha():\n",
        "                x = registers[x]\n",
        "            else:\n",
        "                x = int(x)\n",
        "            print(x, end=\"\")\n",
        "            out.append(x)\n",
        "            pc += 1\n",
        "        else:\n",
        "            raise ValueError(f\"Unknown instruction: {op}\")\n",
        "\n",
        "    return registers"
      ]
    },
    {
      "cell_type": "code",
      "source": [
        "for i in tqdm(range(100000)):\n",
        "  out = []\n",
        "  num = i+633*4\n",
        "  for _ in range(100):\n",
        "    rem = num % 2\n",
        "    out.append(rem)\n",
        "    num = num // 2\n",
        "    if num == 0:\n",
        "      num = i+633*4\n",
        "  if all(x == i % 2 for i, x in enumerate(out)):\n",
        "    print(\"found\",i)\n",
        "    break"
      ],
      "metadata": {
        "colab": {
          "base_uri": "https://localhost:8080/",
          "height": 67,
          "referenced_widgets": [
            "072c9c4a41944cc498a6fb6496787fb3",
            "1832a033b18d4a08bfd30ceb1a2e5e1c",
            "3bc6515796c04a2987bb7fbbadfa02a9",
            "055436b01dcc42439ac73f4c36edd558",
            "b5069aaca6ef4df8858006fdd6da1c6c",
            "a66285ed107b4a178cde2f67190f4394",
            "1512773a06764962acdd52cc2e8d8bcd",
            "7071560e347e4d4782fd1df8c2aeaa53",
            "c35fa100cdf84a29a96886ba4ddf8825",
            "0eeefe9086d441a0b3be128650e2eef7",
            "7309194ed48f440cbf117aa5da78a776"
          ]
        },
        "id": "m6EYAcTzEMbB",
        "outputId": "3df31f6a-78cd-4b30-fa35-bc30dc1ecedd"
      },
      "execution_count": 101,
      "outputs": [
        {
          "output_type": "display_data",
          "data": {
            "text/plain": [
              "  0%|          | 0/100000 [00:00<?, ?it/s]"
            ],
            "application/vnd.jupyter.widget-view+json": {
              "version_major": 2,
              "version_minor": 0,
              "model_id": "072c9c4a41944cc498a6fb6496787fb3"
            }
          },
          "metadata": {}
        },
        {
          "output_type": "stream",
          "name": "stdout",
          "text": [
            "found 198\n"
          ]
        }
      ]
    },
    {
      "cell_type": "code",
      "source": [
        "simulate(data.copy(), registers = {'a': 198, 'b': 0, 'c': 0, 'd': 0}, cycle_limit=200000, debug=False)"
      ],
      "metadata": {
        "colab": {
          "base_uri": "https://localhost:8080/"
        },
        "id": "nN3bi7qaAWeK",
        "outputId": "93269912-cdf1-4e1f-9475-83755beea434"
      },
      "execution_count": 102,
      "outputs": [
        {
          "output_type": "stream",
          "name": "stdout",
          "text": [
            "010101010101010101010101010101010101010101010101010101010101010101010101"
          ]
        },
        {
          "output_type": "execute_result",
          "data": {
            "text/plain": [
              "{'a': 1013, 'b': 702, 'c': 1, 'd': 2730}"
            ]
          },
          "metadata": {},
          "execution_count": 102
        }
      ]
    },
    {
      "cell_type": "code",
      "source": [
        "\n"
      ],
      "metadata": {
        "id": "RLkOPUzSCeoC"
      },
      "execution_count": 102,
      "outputs": []
    }
  ]
}