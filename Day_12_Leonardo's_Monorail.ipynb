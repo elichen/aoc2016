{
  "nbformat": 4,
  "nbformat_minor": 0,
  "metadata": {
    "colab": {
      "provenance": [],
      "authorship_tag": "ABX9TyNHo70tKrwmvf152jba/bKk",
      "include_colab_link": true
    },
    "kernelspec": {
      "name": "python3",
      "display_name": "Python 3"
    },
    "language_info": {
      "name": "python"
    }
  },
  "cells": [
    {
      "cell_type": "markdown",
      "metadata": {
        "id": "view-in-github",
        "colab_type": "text"
      },
      "source": [
        "<a href=\"https://colab.research.google.com/github/elichen/aoc2016/blob/main/Day_12_Leonardo's_Monorail.ipynb\" target=\"_parent\"><img src=\"https://colab.research.google.com/assets/colab-badge.svg\" alt=\"Open In Colab\"/></a>"
      ]
    },
    {
      "cell_type": "code",
      "source": [
        "data = \"\"\"cpy 41 a\n",
        "inc a\n",
        "inc a\n",
        "dec a\n",
        "jnz a 2\n",
        "dec a\"\"\".split('\\n')"
      ],
      "metadata": {
        "id": "1l95bUVZw1EL"
      },
      "execution_count": 1,
      "outputs": []
    },
    {
      "cell_type": "code",
      "source": [
        "data = \"\"\"cpy 1 a\n",
        "cpy 1 b\n",
        "cpy 26 d\n",
        "jnz c 2\n",
        "jnz 1 5\n",
        "cpy 7 c\n",
        "inc d\n",
        "dec c\n",
        "jnz c -2\n",
        "cpy a c\n",
        "inc a\n",
        "dec b\n",
        "jnz b -2\n",
        "cpy c b\n",
        "dec d\n",
        "jnz d -6\n",
        "cpy 19 c\n",
        "cpy 14 d\n",
        "inc a\n",
        "dec d\n",
        "jnz d -2\n",
        "dec c\n",
        "jnz c -5\"\"\".split('\\n')"
      ],
      "metadata": {
        "id": "no7RSWvSxCqp"
      },
      "execution_count": 3,
      "outputs": []
    },
    {
      "cell_type": "code",
      "execution_count": 6,
      "metadata": {
        "colab": {
          "base_uri": "https://localhost:8080/"
        },
        "id": "fnSu3Sxhww0f",
        "outputId": "0d915e82-41c6-4b53-e435-17eb98310951"
      },
      "outputs": [
        {
          "output_type": "execute_result",
          "data": {
            "text/plain": [
              "{'a': 318077, 'b': 196418, 'c': 0, 'd': 0}"
            ]
          },
          "metadata": {},
          "execution_count": 6
        }
      ],
      "source": [
        "def simulate(instructions, registers = {'a': 0, 'b': 0, 'c': 0, 'd': 0}):\n",
        "    pc = 0  # Program counter\n",
        "\n",
        "    while pc < len(instructions):\n",
        "        inst = instructions[pc].split()\n",
        "        op = inst[0]\n",
        "\n",
        "        if op == 'cpy':\n",
        "            x = inst[1]\n",
        "            y = inst[2]\n",
        "            if x.isalpha():\n",
        "                registers[y] = registers[x]\n",
        "            else:\n",
        "                registers[y] = int(x)\n",
        "            pc += 1\n",
        "        elif op == 'inc':\n",
        "            x = inst[1]\n",
        "            registers[x] += 1\n",
        "            pc += 1\n",
        "        elif op == 'dec':\n",
        "            x = inst[1]\n",
        "            registers[x] -= 1\n",
        "            pc += 1\n",
        "        elif op == 'jnz':\n",
        "            x = inst[1]\n",
        "            y = inst[2]\n",
        "            if x.isalpha():\n",
        "                x = registers[x]\n",
        "            else:\n",
        "                x = int(x)\n",
        "            if x != 0:\n",
        "                pc += int(y)\n",
        "            else:\n",
        "                pc += 1\n",
        "        else:\n",
        "            raise ValueError(f\"Unknown instruction: {op}\")\n",
        "\n",
        "    return registers\n",
        "\n",
        "simulate(data)"
      ]
    },
    {
      "cell_type": "code",
      "source": [
        "simulate(data, {'a': 0, 'b': 0, 'c': 1, 'd': 0})"
      ],
      "metadata": {
        "colab": {
          "base_uri": "https://localhost:8080/"
        },
        "id": "WSnSee-nxEDz",
        "outputId": "e01d7e27-3923-4ff8-e1e5-b8a9b7fa7482"
      },
      "execution_count": 7,
      "outputs": [
        {
          "output_type": "execute_result",
          "data": {
            "text/plain": [
              "{'a': 9227731, 'b': 5702887, 'c': 0, 'd': 0}"
            ]
          },
          "metadata": {},
          "execution_count": 7
        }
      ]
    }
  ]
}