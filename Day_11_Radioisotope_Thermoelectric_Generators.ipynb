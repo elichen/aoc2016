{
  "nbformat": 4,
  "nbformat_minor": 0,
  "metadata": {
    "colab": {
      "provenance": [],
      "authorship_tag": "ABX9TyPMQq5Mke9JT2k9OkgPGo7d",
      "include_colab_link": true
    },
    "kernelspec": {
      "name": "python3",
      "display_name": "Python 3"
    },
    "language_info": {
      "name": "python"
    }
  },
  "cells": [
    {
      "cell_type": "markdown",
      "metadata": {
        "id": "view-in-github",
        "colab_type": "text"
      },
      "source": [
        "<a href=\"https://colab.research.google.com/github/elichen/aoc2016/blob/main/Day_11_Radioisotope_Thermoelectric_Generators.ipynb\" target=\"_parent\"><img src=\"https://colab.research.google.com/assets/colab-badge.svg\" alt=\"Open In Colab\"/></a>"
      ]
    },
    {
      "cell_type": "code",
      "execution_count": 59,
      "metadata": {
        "id": "066yAMH0ICgY"
      },
      "outputs": [],
      "source": [
        "data = \"\"\"The first floor contains a hydrogen-compatible microchip and a lithium-compatible microchip.\n",
        "The second floor contains a hydrogen generator.\n",
        "The third floor contains a lithium generator.\n",
        "The fourth floor contains nothing relevant.\"\"\".split('\\n')"
      ]
    },
    {
      "cell_type": "code",
      "source": [
        "data = \"\"\"The first floor contains a polonium generator, a thulium generator, a thulium-compatible microchip, a promethium generator, a ruthenium generator, a ruthenium-compatible microchip, a cobalt generator, and a cobalt-compatible microchip.\n",
        "The second floor contains a polonium-compatible microchip and a promethium-compatible microchip.\n",
        "The third floor contains nothing relevant.\n",
        "The fourth floor contains nothing relevant.\"\"\".split('\\n')"
      ],
      "metadata": {
        "id": "ngPHUn-JLvfy"
      },
      "execution_count": 63,
      "outputs": []
    },
    {
      "cell_type": "code",
      "source": [
        "import re\n",
        "\n",
        "flrs = [[] for _ in range(4)]\n",
        "\n",
        "pattern = r'\\b[a-zA-Z]+(?:-[a-zA-Z]+)?(?:-compatible)? (?:generator|microchip)\\b'\n",
        "for i in range(4):\n",
        "  objects = re.findall(pattern, data[i])\n",
        "  objects = [x.split()[0][:2]+x.split()[1][0] for x in objects]\n",
        "  flrs[i] = set(objects)\n",
        "flrs"
      ],
      "metadata": {
        "colab": {
          "base_uri": "https://localhost:8080/"
        },
        "id": "27YYXSJ5IFqW",
        "outputId": "62f53411-6ab6-4547-f266-6adb1c8f1d6f"
      },
      "execution_count": 64,
      "outputs": [
        {
          "output_type": "execute_result",
          "data": {
            "text/plain": [
              "[{'cog', 'com', 'pog', 'prg', 'rug', 'rum', 'thg', 'thm'},\n",
              " {'pom', 'prm'},\n",
              " set(),\n",
              " set()]"
            ]
          },
          "metadata": {},
          "execution_count": 64
        }
      ]
    },
    {
      "cell_type": "code",
      "source": [
        "def check_move(src, dst, flrs):\n",
        "  for i in [src,dst]:\n",
        "    if len([x for x in flrs[i] if x.endswith(\"g\")]) > 0:\n",
        "      for c in [x for x in flrs[i] if x.endswith(\"m\")]:\n",
        "        if c[:2]+\"g\" not in flrs[i]:\n",
        "          return False\n",
        "  return True\n",
        "\n",
        "def bfs(flrs):\n",
        "  next = [(0, 0, flrs)]\n",
        "  seen = set()\n",
        "  while len(next) > 0:\n",
        "    step, curr, flrs = next.pop(0)\n",
        "    if (curr,tuple([tuple(x) for x in flrs])) in seen: continue\n",
        "    seen.add((curr,tuple([tuple(x) for x in flrs])))\n",
        "    # print(step, curr, flrs)\n",
        "    if all(len(x)==0 for x in flrs[:3]):\n",
        "      return step\n",
        "    rets = []\n",
        "    for c1 in flrs[curr]:\n",
        "      for c2 in flrs[curr]:\n",
        "        to_move = {c1,c2}\n",
        "        dsts = []\n",
        "        if curr<3: dsts.append(curr+1)\n",
        "        if curr>0: dsts.append(curr-1)\n",
        "        for dst in dsts:\n",
        "          new_flrs = flrs.copy()\n",
        "          new_flrs[curr] = new_flrs[curr] - to_move\n",
        "          new_flrs[dst] = new_flrs[dst] | to_move\n",
        "          if check_move(curr, dst, new_flrs):\n",
        "            next.append((step+1, dst, new_flrs))\n",
        "\n",
        "bfs(flrs)"
      ],
      "metadata": {
        "colab": {
          "base_uri": "https://localhost:8080/"
        },
        "id": "1VrmHdIeIIhV",
        "outputId": "63057868-3c79-478f-e9b1-5b7ff4d41dd1"
      },
      "execution_count": 65,
      "outputs": [
        {
          "output_type": "execute_result",
          "data": {
            "text/plain": [
              "47"
            ]
          },
          "metadata": {},
          "execution_count": 65
        }
      ]
    },
    {
      "cell_type": "code",
      "source": [],
      "metadata": {
        "id": "RZq-LQcwd7MJ"
      },
      "execution_count": 37,
      "outputs": []
    }
  ]
}