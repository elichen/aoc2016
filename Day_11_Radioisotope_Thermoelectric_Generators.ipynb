{
  "nbformat": 4,
  "nbformat_minor": 0,
  "metadata": {
    "colab": {
      "provenance": [],
      "authorship_tag": "ABX9TyN0MXu+6elMOZNRGvhMfwYH",
      "include_colab_link": true
    },
    "kernelspec": {
      "name": "python3",
      "display_name": "Python 3"
    },
    "language_info": {
      "name": "python"
    }
  },
  "cells": [
    {
      "cell_type": "markdown",
      "metadata": {
        "id": "view-in-github",
        "colab_type": "text"
      },
      "source": [
        "<a href=\"https://colab.research.google.com/github/elichen/aoc2016/blob/main/Day_11_Radioisotope_Thermoelectric_Generators.ipynb\" target=\"_parent\"><img src=\"https://colab.research.google.com/assets/colab-badge.svg\" alt=\"Open In Colab\"/></a>"
      ]
    },
    {
      "cell_type": "code",
      "execution_count": 64,
      "metadata": {
        "id": "066yAMH0ICgY"
      },
      "outputs": [],
      "source": [
        "data = \"\"\"The first floor contains a hydrogen-compatible microchip and a lithium-compatible microchip.\n",
        "The second floor contains a hydrogen generator.\n",
        "The third floor contains a lithium generator.\n",
        "The fourth floor contains nothing relevant.\"\"\".split('\\n')"
      ]
    },
    {
      "cell_type": "code",
      "source": [
        "data = \"\"\"The first floor contains a polonium generator, a thulium generator, a thulium-compatible microchip, a promethium generator, a ruthenium generator, a ruthenium-compatible microchip, a cobalt generator, and a cobalt-compatible microchip.\n",
        "The second floor contains a polonium-compatible microchip and a promethium-compatible microchip.\n",
        "The third floor contains nothing relevant.\n",
        "The fourth floor contains nothing relevant.\"\"\".split('\\n')"
      ],
      "metadata": {
        "id": "ngPHUn-JLvfy"
      },
      "execution_count": 67,
      "outputs": []
    },
    {
      "cell_type": "code",
      "source": [
        "import re\n",
        "\n",
        "flrs = [[] for _ in range(4)]\n",
        "\n",
        "pattern = r'\\b[a-zA-Z]+(?:-[a-zA-Z]+)?(?:-compatible)? (?:generator|microchip)\\b'\n",
        "for i in range(4):\n",
        "  objects = re.findall(pattern, data[i])\n",
        "  objects = [x.split()[0][:2]+x.split()[1][0] for x in objects]\n",
        "  flrs[i] = set(objects)\n",
        "flrs"
      ],
      "metadata": {
        "colab": {
          "base_uri": "https://localhost:8080/"
        },
        "id": "27YYXSJ5IFqW",
        "outputId": "bbf79688-8f33-457d-dfb6-788f50fda4ea"
      },
      "execution_count": 68,
      "outputs": [
        {
          "output_type": "execute_result",
          "data": {
            "text/plain": [
              "[{'cog', 'com', 'pog', 'prg', 'rug', 'rum', 'thg', 'thm'},\n",
              " {'pom', 'prm'},\n",
              " set(),\n",
              " set()]"
            ]
          },
          "metadata": {},
          "execution_count": 68
        }
      ]
    },
    {
      "cell_type": "code",
      "source": [
        "def check_move(src, dst, flrs):\n",
        "  for i in [src,dst]:\n",
        "    if len([x for x in flrs[i] if x.endswith(\"g\")]) > 0:\n",
        "      for c in [x for x in flrs[i] if x.endswith(\"m\")]:\n",
        "        if c[:2]+\"g\" not in flrs[i]:\n",
        "          return False\n",
        "  return True\n",
        "\n",
        "def bfs(flrs):\n",
        "  next = [(0, 0, flrs)]\n",
        "  seen = set()\n",
        "  while len(next) > 0:\n",
        "    step, curr, flrs = next.pop(0)\n",
        "    if (curr,tuple([tuple(x) for x in flrs])) in seen: continue\n",
        "    seen.add((curr,tuple([tuple(x) for x in flrs])))\n",
        "    # print(step, curr, flrs)\n",
        "    if all(len(x)==0 for x in flrs[:3]):\n",
        "      return step\n",
        "    rets = []\n",
        "    for c1 in flrs[curr]:\n",
        "      for c2 in flrs[curr]:\n",
        "        to_move = {c1,c2}\n",
        "        dsts = []\n",
        "        if curr<3: dsts.append(curr+1)\n",
        "        if curr>0: dsts.append(curr-1)\n",
        "        for dst in dsts:\n",
        "          new_flrs = flrs.copy()\n",
        "          new_flrs[curr] = new_flrs[curr] - to_move\n",
        "          new_flrs[dst] = new_flrs[dst] | to_move\n",
        "          if check_move(curr, dst, new_flrs):\n",
        "            next.append((step+1, dst, new_flrs))\n",
        "\n",
        "bfs(flrs)"
      ],
      "metadata": {
        "colab": {
          "base_uri": "https://localhost:8080/"
        },
        "id": "1VrmHdIeIIhV",
        "outputId": "63057868-3c79-478f-e9b1-5b7ff4d41dd1"
      },
      "execution_count": 65,
      "outputs": [
        {
          "output_type": "execute_result",
          "data": {
            "text/plain": [
              "47"
            ]
          },
          "metadata": {},
          "execution_count": 65
        }
      ]
    },
    {
      "cell_type": "code",
      "source": [
        "data = \"\"\"The first floor contains a elerium generator, elerium-compatible microchip, dilithium generator, dilithium-compatible microchip, polonium generator, a thulium generator, a thulium-compatible microchip, a promethium generator, a ruthenium generator, a ruthenium-compatible microchip, a cobalt generator, and a cobalt-compatible microchip.\n",
        "The second floor contains a polonium-compatible microchip and a promethium-compatible microchip.\n",
        "The third floor contains nothing relevant.\n",
        "The fourth floor contains nothing relevant.\"\"\".split('\\n')"
      ],
      "metadata": {
        "id": "RZq-LQcwd7MJ"
      },
      "execution_count": 1,
      "outputs": []
    },
    {
      "cell_type": "code",
      "source": [
        "import re\n",
        "\n",
        "flrs = [[] for _ in range(4)]\n",
        "\n",
        "pattern = r'\\b[a-zA-Z]+(?:-[a-zA-Z]+)?(?:-compatible)? (?:generator|microchip)\\b'\n",
        "for i in range(4):\n",
        "  objects = re.findall(pattern, data[i])\n",
        "  objects = [x.split()[0][:2]+x.split()[1][0] for x in objects]\n",
        "  flrs[i] = set(objects)\n",
        "flrs"
      ],
      "metadata": {
        "colab": {
          "base_uri": "https://localhost:8080/"
        },
        "id": "vOdfOaQjZoiw",
        "outputId": "5c695e6b-a1b6-4bc9-ead6-d62c716353cd"
      },
      "execution_count": 2,
      "outputs": [
        {
          "output_type": "execute_result",
          "data": {
            "text/plain": [
              "[{'cog',\n",
              "  'com',\n",
              "  'dig',\n",
              "  'dim',\n",
              "  'elg',\n",
              "  'elm',\n",
              "  'pog',\n",
              "  'prg',\n",
              "  'rug',\n",
              "  'rum',\n",
              "  'thg',\n",
              "  'thm'},\n",
              " {'pom', 'prm'},\n",
              " set(),\n",
              " set()]"
            ]
          },
          "metadata": {},
          "execution_count": 2
        }
      ]
    },
    {
      "cell_type": "code",
      "source": [
        "from functools import lru_cache\n",
        "\n",
        "@lru_cache(maxsize=None)\n",
        "def check_move(i, flrs):\n",
        "  if len([x for x in flrs[i] if x.endswith(\"g\")]) > 0:\n",
        "    for c in [x for x in flrs[i] if x.endswith(\"m\")]:\n",
        "      if c[:2]+\"g\" not in flrs[i]:\n",
        "        return False\n",
        "  return True\n",
        "\n",
        "seen = set((0, tuple(map(frozenset, flrs))))\n",
        "min_dist = [300]\n",
        "\n",
        "@lru_cache(maxsize=None)\n",
        "def dfs(curr, flrs):\n",
        "  # print(len(seen), curr, flrs)\n",
        "  if len(seen) >= min_dist[0]: return float(\"inf\")\n",
        "  if all(len(x)==0 for x in flrs[:3]):\n",
        "    min_dist[0] = min(min_dist[0],len(seen))\n",
        "    return 0\n",
        "\n",
        "  res = [float('inf')]\n",
        "  for c1 in flrs[curr]:\n",
        "    for c2 in flrs[curr]:\n",
        "      to_move = {c1,c2}\n",
        "      dsts = []\n",
        "      if curr<3 and (c1.endswith(\"g\") or c2.endswith(\"g\")): dsts.append(curr+1)\n",
        "      if curr>0 and len(to_move) == 1: dsts.append(curr-1)\n",
        "      for dst in dsts:\n",
        "        new_flrs = list(flrs)\n",
        "        new_flrs[curr] = new_flrs[curr] - to_move\n",
        "        new_flrs[dst] = new_flrs[dst] | to_move\n",
        "        if (dst,tuple(map(frozenset, new_flrs))) in seen: continue\n",
        "        seen.add((dst,tuple(map(frozenset, new_flrs))))\n",
        "        if check_move(curr ,tuple(map(frozenset, new_flrs))) and check_move(dst,tuple(map(frozenset, new_flrs))):\n",
        "            res.append(1+dfs(dst, tuple(map(frozenset, new_flrs))))\n",
        "        seen.remove((dst,tuple(map(frozenset, new_flrs))))\n",
        "  return min(res)\n",
        "\n",
        "dfs(0, tuple(map(frozenset, flrs)))"
      ],
      "metadata": {
        "colab": {
          "base_uri": "https://localhost:8080/"
        },
        "id": "pBlO20aoZ4ZX",
        "outputId": "d0a8d386-1d7a-4a40-a91d-a902e8a94dc5"
      },
      "execution_count": 6,
      "outputs": [
        {
          "output_type": "execute_result",
          "data": {
            "text/plain": [
              "71"
            ]
          },
          "metadata": {},
          "execution_count": 6
        }
      ]
    },
    {
      "cell_type": "code",
      "source": [],
      "metadata": {
        "id": "hYr0fmkBUc9p"
      },
      "execution_count": null,
      "outputs": []
    }
  ]
}