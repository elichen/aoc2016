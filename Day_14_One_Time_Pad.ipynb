{
  "nbformat": 4,
  "nbformat_minor": 0,
  "metadata": {
    "colab": {
      "provenance": [],
      "authorship_tag": "ABX9TyMcq3rvN3nHKafVHVMRtrds",
      "include_colab_link": true
    },
    "kernelspec": {
      "name": "python3",
      "display_name": "Python 3"
    },
    "language_info": {
      "name": "python"
    }
  },
  "cells": [
    {
      "cell_type": "markdown",
      "metadata": {
        "id": "view-in-github",
        "colab_type": "text"
      },
      "source": [
        "<a href=\"https://colab.research.google.com/github/elichen/aoc2016/blob/main/Day_14_One_Time_Pad.ipynb\" target=\"_parent\"><img src=\"https://colab.research.google.com/assets/colab-badge.svg\" alt=\"Open In Colab\"/></a>"
      ]
    },
    {
      "cell_type": "code",
      "execution_count": 7,
      "metadata": {
        "id": "R3Sdqe7p6s4u"
      },
      "outputs": [],
      "source": [
        "import hashlib\n",
        "\n",
        "def get_hash(salt, n):\n",
        "  md5 = hashlib.md5()\n",
        "  md5.update(f\"{salt}{n}\".encode('utf-8'))\n",
        "  hash = md5.hexdigest()\n",
        "  return hash.lower()"
      ]
    },
    {
      "cell_type": "code",
      "source": [
        "import re\n",
        "\n",
        "def find_consecutive_chars(string, n):\n",
        "    pattern = r'(.)\\1{' + str(n-1) + '}'\n",
        "    match = re.search(pattern, string)\n",
        "    if match:\n",
        "        return match.group()\n",
        "    else:\n",
        "        return None"
      ],
      "metadata": {
        "id": "6Wn0lV4jDhz4"
      },
      "execution_count": 8,
      "outputs": []
    },
    {
      "cell_type": "code",
      "source": [
        "def find_keys(salt):\n",
        "  found3s = []\n",
        "  keys = []\n",
        "  for i in range(100000):\n",
        "    hash = get_hash(salt, i)\n",
        "\n",
        "    new_found3s = []\n",
        "    for c,idx,orig_hash in found3s:\n",
        "      if c*5 in hash:\n",
        "        # print(\"found\",idx,i, orig_hash, hash)\n",
        "        keys.append(orig_hash)\n",
        "        if len(keys) == 64:\n",
        "          return idx\n",
        "      elif i-idx <= 1000:\n",
        "        new_found3s.append((c,idx,orig_hash))\n",
        "    found3s = new_found3s\n",
        "\n",
        "    found = find_consecutive_chars(hash, 3)\n",
        "    if found:\n",
        "      found3s.append((found[0],i,hash))\n",
        "  return found3s,keys\n",
        "\n",
        "find_keys(\"abc\")"
      ],
      "metadata": {
        "colab": {
          "base_uri": "https://localhost:8080/"
        },
        "id": "G3hdeCzoEVap",
        "outputId": "fd67aef4-67b3-487a-fda5-5c72c5c2fb05"
      },
      "execution_count": 45,
      "outputs": [
        {
          "output_type": "execute_result",
          "data": {
            "text/plain": [
              "22728"
            ]
          },
          "metadata": {},
          "execution_count": 45
        }
      ]
    },
    {
      "cell_type": "code",
      "source": [
        "find_keys(\"jlmsuwbz\")"
      ],
      "metadata": {
        "colab": {
          "base_uri": "https://localhost:8080/"
        },
        "id": "3YrZtTgGT6YS",
        "outputId": "60354038-0d2a-4f13-e8e3-030e047fdfa2"
      },
      "execution_count": 46,
      "outputs": [
        {
          "output_type": "execute_result",
          "data": {
            "text/plain": [
              "35186"
            ]
          },
          "metadata": {},
          "execution_count": 46
        }
      ]
    },
    {
      "cell_type": "code",
      "source": [
        "def get_stretched_hash(salt, n):\n",
        "  hash = f\"{salt}{n}\"\n",
        "  for _ in range(2017):\n",
        "    md5 = hashlib.md5()\n",
        "    md5.update(hash.encode('utf-8'))\n",
        "    hash = md5.hexdigest()\n",
        "  return hash.lower()\n",
        "\n",
        "def find_stretched_keys(salt):\n",
        "  found3s = []\n",
        "  keys = []\n",
        "  for i in range(100000):\n",
        "    hash = get_stretched_hash(salt, i)\n",
        "\n",
        "    new_found3s = []\n",
        "    for c,idx,orig_hash in found3s:\n",
        "      if c*5 in hash:\n",
        "        # print(\"found\",idx,i, orig_hash, hash)\n",
        "        keys.append(orig_hash)\n",
        "        if len(keys) == 64:\n",
        "          return idx\n",
        "      elif i-idx <= 1000:\n",
        "        new_found3s.append((c,idx,orig_hash))\n",
        "    found3s = new_found3s\n",
        "\n",
        "    found = find_consecutive_chars(hash, 3)\n",
        "    if found:\n",
        "      found3s.append((found[0],i,hash))\n",
        "  return found3s,keys\n",
        "\n",
        "find_stretched_keys(\"abc\")"
      ],
      "metadata": {
        "colab": {
          "base_uri": "https://localhost:8080/"
        },
        "id": "PPeys4ibUdy1",
        "outputId": "251d777f-b194-45ae-c0c2-a37638621dcd"
      },
      "execution_count": 57,
      "outputs": [
        {
          "output_type": "execute_result",
          "data": {
            "text/plain": [
              "22551"
            ]
          },
          "metadata": {},
          "execution_count": 57
        }
      ]
    },
    {
      "cell_type": "code",
      "source": [
        "find_stretched_keys(\"jlmsuwbz\")"
      ],
      "metadata": {
        "colab": {
          "base_uri": "https://localhost:8080/"
        },
        "id": "aBpWV-pDVKXh",
        "outputId": "d72ec9b4-f550-4b8c-8104-5763f3ea2748"
      },
      "execution_count": 58,
      "outputs": [
        {
          "output_type": "execute_result",
          "data": {
            "text/plain": [
              "22429"
            ]
          },
          "metadata": {},
          "execution_count": 58
        }
      ]
    }
  ]
}