{
  "nbformat": 4,
  "nbformat_minor": 0,
  "metadata": {
    "colab": {
      "provenance": [],
      "authorship_tag": "ABX9TyPCgTTW5YXfg8pOhnozgifq",
      "include_colab_link": true
    },
    "kernelspec": {
      "name": "python3",
      "display_name": "Python 3"
    },
    "language_info": {
      "name": "python"
    }
  },
  "cells": [
    {
      "cell_type": "markdown",
      "metadata": {
        "id": "view-in-github",
        "colab_type": "text"
      },
      "source": [
        "<a href=\"https://colab.research.google.com/github/elichen/aoc2016/blob/main/Day_8_Two_Factor_Authentication.ipynb\" target=\"_parent\"><img src=\"https://colab.research.google.com/assets/colab-badge.svg\" alt=\"Open In Colab\"/></a>"
      ]
    },
    {
      "cell_type": "code",
      "source": [
        "data = \"\"\"rect 3x2\n",
        "rotate column x=1 by 1\n",
        "rotate row y=0 by 4\n",
        "rotate column x=1 by 1\"\"\".split('\\n')"
      ],
      "metadata": {
        "id": "aLlN2hy3n_9k"
      },
      "execution_count": 23,
      "outputs": []
    },
    {
      "cell_type": "code",
      "source": [
        "data = open(\"input.txt\").read().splitlines()"
      ],
      "metadata": {
        "id": "9JS6UfnRr0sW"
      },
      "execution_count": 24,
      "outputs": []
    },
    {
      "cell_type": "code",
      "source": [
        "import numpy as np\n",
        "import re\n",
        "\n",
        "m = np.zeros((6,50))\n",
        "# m = np.zeros((3,7))\n",
        "\n",
        "for cmd in data:\n",
        "    if cmd.startswith('rect'):\n",
        "        a,b = map(int, re.findall(r'(\\d+)x(\\d+)', cmd)[0])\n",
        "        m[:b,:a] = 1\n",
        "    if cmd.startswith('rotate row'):\n",
        "        a,b = map(int, re.findall(r'y=(\\d+) by (\\d+)', cmd)[0])\n",
        "        m[a] = np.roll(m[a], b)\n",
        "    if cmd.startswith('rotate column'):\n",
        "        a,b = map(int, re.findall(r'x=(\\d+) by (\\d+)', cmd)[0])\n",
        "        m[:, a] = np.roll(m[:, a], b)\n",
        "\n",
        "np.count_nonzero(m)"
      ],
      "metadata": {
        "colab": {
          "base_uri": "https://localhost:8080/"
        },
        "id": "nJVw5lCxnmpz",
        "outputId": "85ab9654-3945-4370-febf-64b7b45bc880"
      },
      "execution_count": 26,
      "outputs": [
        {
          "output_type": "execute_result",
          "data": {
            "text/plain": [
              "128"
            ]
          },
          "metadata": {},
          "execution_count": 26
        }
      ]
    },
    {
      "cell_type": "code",
      "source": [],
      "metadata": {
        "id": "tdrN5dwUqEqJ"
      },
      "execution_count": null,
      "outputs": []
    }
  ]
}