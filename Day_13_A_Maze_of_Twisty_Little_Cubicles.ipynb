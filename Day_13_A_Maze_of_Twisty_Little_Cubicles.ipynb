{
  "nbformat": 4,
  "nbformat_minor": 0,
  "metadata": {
    "colab": {
      "provenance": [],
      "authorship_tag": "ABX9TyPJzTeUtl37CWzihKXeKj3G",
      "include_colab_link": true
    },
    "kernelspec": {
      "name": "python3",
      "display_name": "Python 3"
    },
    "language_info": {
      "name": "python"
    }
  },
  "cells": [
    {
      "cell_type": "markdown",
      "metadata": {
        "id": "view-in-github",
        "colab_type": "text"
      },
      "source": [
        "<a href=\"https://colab.research.google.com/github/elichen/aoc2016/blob/main/Day_13_A_Maze_of_Twisty_Little_Cubicles.ipynb\" target=\"_parent\"><img src=\"https://colab.research.google.com/assets/colab-badge.svg\" alt=\"Open In Colab\"/></a>"
      ]
    },
    {
      "cell_type": "code",
      "execution_count": 89,
      "metadata": {
        "colab": {
          "base_uri": "https://localhost:8080/"
        },
        "id": "vG5zGsYLwOJ-",
        "outputId": "335dcb7e-1749-474b-8ce4-32633760ddd3"
      },
      "outputs": [
        {
          "output_type": "stream",
          "name": "stdout",
          "text": [
            ".#.####.##\n",
            "..#..#...#\n",
            "#....##...\n",
            "###.#.###.\n",
            ".##..#..#.\n",
            "..##....#.\n",
            "#...##.###\n"
          ]
        }
      ],
      "source": [
        "def is_wall(x,y, num):\n",
        "  sum = x*x + 3*x + 2*x*y + y + y*y\n",
        "  sum += num\n",
        "  binary_rep = bin(sum)[2:]\n",
        "  bit_count = binary_rep.count('1')\n",
        "  return bit_count%2 == 1\n",
        "\n",
        "num = 10\n",
        "for y in range(7):\n",
        "  for x in range(10):\n",
        "    print(\"#\" if is_wall(x,y,num) else \".\", end=\"\")\n",
        "  print(\"\")"
      ]
    },
    {
      "cell_type": "code",
      "source": [
        "def print_map(size_x, size_y, path, num):\n",
        "    for y in range(size_y):\n",
        "        for x in range(size_x):\n",
        "            if (x, y) in path:\n",
        "                print('P', end='')\n",
        "            elif is_wall(x, y, num):\n",
        "                print('#', end='')\n",
        "            else:\n",
        "                print('.', end='')\n",
        "        print()"
      ],
      "metadata": {
        "id": "Df8k2RyK57mH"
      },
      "execution_count": 90,
      "outputs": []
    },
    {
      "cell_type": "code",
      "source": [
        "import heapq\n",
        "\n",
        "def dist(point1, point2):\n",
        "    return sum(abs(a - b) for a, b in zip(point1, point2))\n",
        "\n",
        "def q_star(num, start, end):\n",
        "  q = [(dist(start,end),start,0,[start])]\n",
        "  seen = set()\n",
        "  while True:\n",
        "    _,(x,y),d,path = heapq.heappop(q)\n",
        "    if (x,y) == end:\n",
        "      print_map(end[0] + 2, end[1] + 2, path, num)\n",
        "      return d\n",
        "    for dx,dy in [(0,1), (1,0), (0,-1), (-1, 0)]:\n",
        "      nx,ny = x+dx, y+dy\n",
        "      if (nx,ny) not in seen and nx >= 0 and ny >= 0 and not is_wall(nx,ny, num):\n",
        "        heapq.heappush(q, (d + dist((nx,ny),end), (nx,ny), d+1, path + [(nx, ny)]))\n",
        "        seen.add((nx,ny))"
      ],
      "metadata": {
        "id": "vKHjJCiVxHIG"
      },
      "execution_count": 91,
      "outputs": []
    },
    {
      "cell_type": "code",
      "source": [
        "q_star(10, (1,1), (7,4))"
      ],
      "metadata": {
        "colab": {
          "base_uri": "https://localhost:8080/"
        },
        "id": "oXRssrJ54Fz2",
        "outputId": "a4cb0b72-5446-4429-e4ad-e2a0e30250f5"
      },
      "execution_count": 92,
      "outputs": [
        {
          "output_type": "stream",
          "name": "stdout",
          "text": [
            ".#.####.#\n",
            ".P#..#...\n",
            "#PPP.##..\n",
            "###P#.###\n",
            ".##PP#PP#\n",
            "..##PPP.#\n"
          ]
        },
        {
          "output_type": "execute_result",
          "data": {
            "text/plain": [
              "11"
            ]
          },
          "metadata": {},
          "execution_count": 92
        }
      ]
    },
    {
      "cell_type": "code",
      "source": [
        "q_star(1364, (1,1), (31,39))"
      ],
      "metadata": {
        "colab": {
          "base_uri": "https://localhost:8080/"
        },
        "id": "j7gOEGiU3yXy",
        "outputId": "77b4eeea-d444-41ca-d89b-943d95d906b9"
      },
      "execution_count": 93,
      "outputs": [
        {
          "output_type": "stream",
          "name": "stdout",
          "text": [
            "###.###...#.#..#.##....#...##.#..\n",
            "PP###.#...#..#....##.#...#....#..\n",
            "P#..#.##.#######.#.#.####.##.###.\n",
            "PP#.#.##.#....##...#..#.####.####\n",
            "#PP##.##.#..#...###.#.....#.....#\n",
            ".#P##..########.#.#####...#..##.#\n",
            "..PPPPPPPPP.###.....#####.#####..\n",
            "##.##.####P..#.##....#..#.#..#.##\n",
            ".#..#.##.#P#.######..#.##..#.####\n",
            "###......#PP#..#..####.###..#..#.\n",
            "####..###.#P##.#.#...#..#.#.##.##\n",
            ".######.###P.###..##.#..###..##.#\n",
            "..##..#.PPPP..###.#..###......#.#\n",
            "......##P##.#.....#....#.##.#.###\n",
            "####.#.#P##...###.##...##.#..#..#\n",
            "..##..##P#.###..#.###.#.##.#..#..\n",
            "#.###.#PP#...#.##...#..#.#..#....\n",
            "#..#..#P######.#####.#..###..##.#\n",
            "...##.#P##..#...##.#.##.####..#.#\n",
            "#...#..PPPP.#......#.....#.###...\n",
            "##.#######P########.##.#.###.##..\n",
            "##.#...###P##PPP#.##.#..#.....##.\n",
            "##.#.....#PPPP#PP#.##.#.####.#.#.\n",
            "..###.##.#.###.#P##.###...##..##.\n",
            "#..##.#..##..##.P.#.....#..##.#..\n",
            "##....#...###.#.P.##.#####.#..#..\n",
            "#.##.###.#..#.##P#.###..#..##.###\n",
            "####..##..#.#.##PP#PPPPP#...#.#..\n",
            "..#.#...#..##..##PPP###P##.##..#.\n",
            "..##.##..#.###.#.####.#P##.###.#.\n",
            "#..#######..#..#.....##PPPP.#..##\n",
            "###..#......#..###.#.#.###PP#....\n",
            "..##.#..########.###.###.##P##..#\n",
            "#...####....#.......#...#.#P#####\n",
            "..#....#..#.#.##..#.###..##P##...\n",
            "###########.#.#####....#.#.PPPP#.\n",
            "..##..#....##..#....##.#.#..##P#.\n",
            "....#.##.#.#.#.#.###.#..######P#.\n",
            "#.#..#.#.#.##..##..##.#.....#PP##\n",
            "##.#...#.##.#...#.#.######..#P#P.\n",
            ".#..###...#.##.##.##..##.#..#PPP.\n"
          ]
        },
        {
          "output_type": "execute_result",
          "data": {
            "text/plain": [
              "86"
            ]
          },
          "metadata": {},
          "execution_count": 93
        }
      ]
    },
    {
      "cell_type": "code",
      "source": [],
      "metadata": {
        "id": "EMfjbHuw7pBX"
      },
      "execution_count": 93,
      "outputs": []
    }
  ]
}