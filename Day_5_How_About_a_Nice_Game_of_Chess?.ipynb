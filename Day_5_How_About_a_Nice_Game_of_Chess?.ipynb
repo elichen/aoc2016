{
  "nbformat": 4,
  "nbformat_minor": 0,
  "metadata": {
    "colab": {
      "provenance": [],
      "authorship_tag": "ABX9TyO8qT6+nZ7LpCc+4FqsySoB",
      "include_colab_link": true
    },
    "kernelspec": {
      "name": "python3",
      "display_name": "Python 3"
    },
    "language_info": {
      "name": "python"
    }
  },
  "cells": [
    {
      "cell_type": "markdown",
      "metadata": {
        "id": "view-in-github",
        "colab_type": "text"
      },
      "source": [
        "<a href=\"https://colab.research.google.com/github/elichen/aoc2016/blob/main/Day_5_How_About_a_Nice_Game_of_Chess%3F.ipynb\" target=\"_parent\"><img src=\"https://colab.research.google.com/assets/colab-badge.svg\" alt=\"Open In Colab\"/></a>"
      ]
    },
    {
      "cell_type": "code",
      "execution_count": 14,
      "metadata": {
        "colab": {
          "base_uri": "https://localhost:8080/",
          "height": 178
        },
        "id": "_AolIcM6KC-n",
        "outputId": "d45b84c6-1c25-45fa-b78e-85807b4c1e43"
      },
      "outputs": [
        {
          "output_type": "stream",
          "name": "stdout",
          "text": [
            "d\n",
            "d4\n",
            "d4c\n",
            "d4cd\n",
            "d4cd2\n",
            "d4cd2e\n",
            "d4cd2ee\n",
            "d4cd2ee1\n"
          ]
        },
        {
          "output_type": "execute_result",
          "data": {
            "text/plain": [
              "'d4cd2ee1'"
            ],
            "application/vnd.google.colaboratory.intrinsic+json": {
              "type": "string"
            }
          },
          "metadata": {},
          "execution_count": 14
        }
      ],
      "source": [
        "from hashlib import md5\n",
        "\n",
        "prefix = \"ugkcyxxp\"\n",
        "pw = \"\"\n",
        "i = 0\n",
        "while len(pw) < 8:\n",
        "  s = f\"{prefix}{i}\"\n",
        "  hash = md5(s.encode()).hexdigest()\n",
        "  if hash.startswith(\"00000\"):\n",
        "    pw += hash[5]\n",
        "    print(pw)\n",
        "  i += 1\n",
        "pw"
      ]
    },
    {
      "cell_type": "code",
      "source": [
        "prefix = \"ugkcyxxp\"\n",
        "pw = [None] * 8\n",
        "found = 0\n",
        "i = 0\n",
        "while found < 8:\n",
        "  s = f\"{prefix}{i}\"\n",
        "  hash = md5(s.encode()).hexdigest()\n",
        "  try:\n",
        "    p = int(hash[5])\n",
        "  except:\n",
        "    p = 100\n",
        "  c = hash[6]\n",
        "  if hash.startswith(\"00000\") and p < 8 and pw[p] == None:\n",
        "    pw[p] = c\n",
        "    found += 1\n",
        "    print(pw)\n",
        "  i += 1\n",
        "\"\".join(pw)"
      ],
      "metadata": {
        "colab": {
          "base_uri": "https://localhost:8080/",
          "height": 178
        },
        "id": "k29jnZ_SMyaE",
        "outputId": "c77eddb6-24a4-4102-8c89-00cfd9f944af"
      },
      "execution_count": 26,
      "outputs": [
        {
          "output_type": "stream",
          "name": "stdout",
          "text": [
            "[None, None, None, None, '3', None, None, None]\n",
            "[None, None, 'c', None, '3', None, None, None]\n",
            "[None, '2', 'c', None, '3', None, None, None]\n",
            "[None, '2', 'c', None, '3', '0', None, None]\n",
            "[None, '2', 'c', None, '3', '0', None, '5']\n",
            "['f', '2', 'c', None, '3', '0', None, '5']\n",
            "['f', '2', 'c', None, '3', '0', 'e', '5']\n",
            "['f', '2', 'c', '7', '3', '0', 'e', '5']\n"
          ]
        },
        {
          "output_type": "execute_result",
          "data": {
            "text/plain": [
              "'f2c730e5'"
            ],
            "application/vnd.google.colaboratory.intrinsic+json": {
              "type": "string"
            }
          },
          "metadata": {},
          "execution_count": 26
        }
      ]
    }
  ]
}