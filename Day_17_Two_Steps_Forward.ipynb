{
  "nbformat": 4,
  "nbformat_minor": 0,
  "metadata": {
    "colab": {
      "provenance": [],
      "authorship_tag": "ABX9TyMOd+OKtl7PMrRRLHYJI5wx",
      "include_colab_link": true
    },
    "kernelspec": {
      "name": "python3",
      "display_name": "Python 3"
    },
    "language_info": {
      "name": "python"
    }
  },
  "cells": [
    {
      "cell_type": "markdown",
      "metadata": {
        "id": "view-in-github",
        "colab_type": "text"
      },
      "source": [
        "<a href=\"https://colab.research.google.com/github/elichen/aoc2016/blob/main/Day_17_Two_Steps_Forward.ipynb\" target=\"_parent\"><img src=\"https://colab.research.google.com/assets/colab-badge.svg\" alt=\"Open In Colab\"/></a>"
      ]
    },
    {
      "cell_type": "code",
      "source": [
        "import hashlib\n",
        "\n",
        "def md5(s):\n",
        "    hash_object = hashlib.md5()\n",
        "    hash_object.update(s.encode())\n",
        "    return hash_object.hexdigest()"
      ],
      "metadata": {
        "id": "sgEvjRLV52EJ"
      },
      "execution_count": 2,
      "outputs": []
    },
    {
      "cell_type": "code",
      "source": [
        "def dist(point_a, point_b):\n",
        "    return abs(point_a[0] - point_b[0]) + abs(point_a[1] - point_b[1])"
      ],
      "metadata": {
        "id": "L_HuY1PW6eL1"
      },
      "execution_count": 4,
      "outputs": []
    },
    {
      "cell_type": "code",
      "execution_count": 10,
      "metadata": {
        "colab": {
          "base_uri": "https://localhost:8080/",
          "height": 35
        },
        "id": "_6lAN46k5osE",
        "outputId": "82f15f5b-5f4f-4735-f92b-1c64257df1be"
      },
      "outputs": [
        {
          "output_type": "execute_result",
          "data": {
            "text/plain": [
              "'RDDRULDDRR'"
            ],
            "application/vnd.google.colaboratory.intrinsic+json": {
              "type": "string"
            }
          },
          "metadata": {},
          "execution_count": 10
        }
      ],
      "source": [
        "import heapq\n",
        "\n",
        "def qstar(s):\n",
        "  q = [(dist((0,0), (3,3)), (0,0), s)]\n",
        "  while q:\n",
        "    _,pos,prefix = heapq.heappop(q)\n",
        "    if pos == (3,3): return prefix[len(s):]\n",
        "    hash = md5(prefix)\n",
        "    for i,c in enumerate(hash[:4]):\n",
        "      if c in ['b','c','d','e','f']:\n",
        "        dx,dy = [(0,-1), (0,1), (-1,0), (1,0)][i]\n",
        "        new_x,new_y = pos[0]+dx, pos[1]+dy\n",
        "        if new_x >= 0 and new_x < 4 and new_y >= 0 and new_y < 4:\n",
        "          new_prefix = prefix + ['U','D','L','R'][i]\n",
        "          heapq.heappush(q, (dist((new_x,new_y), (3,3))+len(new_prefix), (new_x,new_y), new_prefix))\n",
        "\n",
        "qstar(\"ioramepc\")"
      ]
    },
    {
      "cell_type": "code",
      "source": [
        "def bfs(s):\n",
        "  longest = 0\n",
        "  q = [((0,0), s)]\n",
        "  while q:\n",
        "    pos,prefix = q.pop(0)\n",
        "    if pos == (3,3):\n",
        "      longest = max(longest, len(prefix)-len(s))\n",
        "      continue\n",
        "    hash = md5(prefix)\n",
        "    for i,c in enumerate(hash[:4]):\n",
        "      if c in ['b','c','d','e','f']:\n",
        "        dx,dy = [(0,-1), (0,1), (-1,0), (1,0)][i]\n",
        "        new_x,new_y = pos[0]+dx, pos[1]+dy\n",
        "        if new_x >= 0 and new_x < 4 and new_y >= 0 and new_y < 4:\n",
        "          new_prefix = prefix + ['U','D','L','R'][i]\n",
        "          q.append(((new_x,new_y), new_prefix))\n",
        "  return longest\n",
        "\n",
        "bfs(\"ioramepc\")"
      ],
      "metadata": {
        "colab": {
          "base_uri": "https://localhost:8080/"
        },
        "id": "_tHA2iDk9b0D",
        "outputId": "5a5b9f77-8337-4f85-ed96-97cd0b214e28"
      },
      "execution_count": 25,
      "outputs": [
        {
          "output_type": "execute_result",
          "data": {
            "text/plain": [
              "766"
            ]
          },
          "metadata": {},
          "execution_count": 25
        }
      ]
    }
  ]
}