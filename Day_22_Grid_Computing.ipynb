{
  "nbformat": 4,
  "nbformat_minor": 0,
  "metadata": {
    "colab": {
      "provenance": [],
      "authorship_tag": "ABX9TyMa5YALzxyUEER4P1j7uQPd",
      "include_colab_link": true
    },
    "kernelspec": {
      "name": "python3",
      "display_name": "Python 3"
    },
    "language_info": {
      "name": "python"
    }
  },
  "cells": [
    {
      "cell_type": "markdown",
      "metadata": {
        "id": "view-in-github",
        "colab_type": "text"
      },
      "source": [
        "<a href=\"https://colab.research.google.com/github/elichen/aoc2016/blob/main/Day_22_Grid_Computing.ipynb\" target=\"_parent\"><img src=\"https://colab.research.google.com/assets/colab-badge.svg\" alt=\"Open In Colab\"/></a>"
      ]
    },
    {
      "cell_type": "code",
      "execution_count": 3,
      "metadata": {
        "id": "EoIP_xy8RmZn"
      },
      "outputs": [],
      "source": [
        "data = open(\"input.txt\").read().splitlines()"
      ]
    },
    {
      "cell_type": "code",
      "source": [
        "nodes = []\n",
        "for line in data[2:]:\n",
        "  name, size, used, avail, _ = line.split()\n",
        "  size = int(size[:-1])\n",
        "  used = int(used[:-1])\n",
        "  avail = int(avail[:-1])\n",
        "  nodes.append({\"name\":name, \"size\":size, \"used\":used, \"avail\":avail})"
      ],
      "metadata": {
        "id": "9HUd55rjTpKD"
      },
      "execution_count": 30,
      "outputs": []
    },
    {
      "cell_type": "code",
      "source": [
        "def get_xy(name):\n",
        "  _,x,y = name.split(\"-\")\n",
        "  x,y = int(x[1:]),int(y[1:])\n",
        "  return (x,y)\n",
        "\n",
        "total = 0\n",
        "found_free = set()\n",
        "found_big = set()\n",
        "m = {}\n",
        "for a in nodes:\n",
        "  for b in nodes:\n",
        "    if a[\"name\"] != b[\"name\"]:\n",
        "      if a[\"used\"] != 0 and a[\"used\"] <= b[\"avail\"]:\n",
        "        total += 1\n",
        "        if b[\"name\"] not in found_free:\n",
        "          m[get_xy(b[\"name\"])] = \"_\"\n",
        "          found_free.add(b[\"name\"])\n",
        "        continue\n",
        "      elif a[\"used\"] > b[\"size\"]:\n",
        "        if a[\"name\"] not in found_big:\n",
        "          m[get_xy(a[\"name\"])] = \"#\"\n",
        "          found_big.add(a[\"name\"])\n",
        "        continue\n",
        "total"
      ],
      "metadata": {
        "colab": {
          "base_uri": "https://localhost:8080/"
        },
        "id": "dnVjzoGcU0oJ",
        "outputId": "9000e829-7fc3-408f-ba1c-56989e0777e6"
      },
      "execution_count": 58,
      "outputs": [
        {
          "output_type": "execute_result",
          "data": {
            "text/plain": [
              "1043"
            ]
          },
          "metadata": {},
          "execution_count": 58
        }
      ]
    },
    {
      "cell_type": "code",
      "source": [
        "def display_grid(m):\n",
        "    if not m:\n",
        "        print(\"No data to display.\")\n",
        "        return\n",
        "\n",
        "    # Determine the size of the grid\n",
        "    max_x = max(x for x, _ in m.keys())\n",
        "    max_y = max(y for _, y in m.keys())\n",
        "\n",
        "    # Display the grid\n",
        "    for y in range(max_y + 1):\n",
        "        for x in range(max_x + 1):\n",
        "            if (x, y) in m:\n",
        "                print(f\"{m[(x, y)]} \", end=\"\")\n",
        "            else:\n",
        "                print(\". \", end=\"\")  # Placeholder for empty cells\n",
        "        print()  # Newline after each row\n",
        "\n",
        "display_grid(m)"
      ],
      "metadata": {
        "colab": {
          "base_uri": "https://localhost:8080/"
        },
        "id": "LztBRBgsZB9A",
        "outputId": "ee2972e3-eddd-4aca-e755-684884fa0578"
      },
      "execution_count": 59,
      "outputs": [
        {
          "output_type": "stream",
          "name": "stdout",
          "text": [
            ". . . . . . . . . . . . . . . . . . . . . . . . . . . . . . \n",
            ". . . . . . . . . . . . . . . . . . . . . . . . . . . . . . \n",
            ". . . . . . . . . . . . . . . . . . . . . . . . . . . . . . \n",
            ". . . . . . . . . . . . . . . . . . . . . . . . . . . . . . \n",
            ". . . . . . . . . . . . . . . . . . . . . . . . . . . . . . \n",
            ". . . . . . . . . . . . . . . . . . . . . . . . . . . . . . \n",
            ". . . . . . . . . . . . . . . . . . . . . . . . . . . . . . \n",
            ". . . . . . . . . . . . . . . . . . . . . . . . . . . . . . \n",
            ". . . . . . . . . . . . . . . . . . . . . . . . . . . . . . \n",
            ". . . . . . . . . . . . . . . . . . . . . . . . . . . . . . \n",
            ". . . . . . . . . . . . . . . . . . . . . . . . . . . . . . \n",
            ". . . . . . . . . . . . . . . . . . . . . . . . . . . . . . \n",
            ". . . . . . . . . . . . . . . . . . . . . . . . . . . . . . \n",
            ". . . . . . . . . . . . . . . . . . . . . . . . . . . . . . \n",
            ". . . . . . . . . . . . . . . . . . . . . . . . . . . . . . \n",
            ". . . . . . . . . . . . . . . . . . . . . . . . . . . . . . \n",
            ". . . . . . . . . . . . . . . . . . . . . . . . . . . . . . \n",
            ". . . . . . . . . . . . . . . . . . . . . . . . . . . . . . \n",
            ". . . . . . . . . . . . . . . . . . . . . . . . . . . . . . \n",
            ". . . . . . . . . . . . . . . . . . . . . . . . . . . . . . \n",
            ". . . . . . . . . . . . . . . . . . . . . . . . # # # # # # \n",
            ". . . . . . . . . . . . . . . . . . . . . . . . . . . . . . \n",
            ". . . . . . . . . . . . . . . . . . . . . . . . . . . . . . \n",
            ". . . . . . . . . . . . . . . . . . . . . . . . . . . . . . \n",
            ". . . . . . . . . . . . . . . . . . . . . . . . . . . . . . \n",
            ". . . . . . . . . . . . . . . . . . . . . . . . . . . . . . \n",
            ". . . . . . . . . . . . . . . . . . . . . . . . . . . . . . \n",
            ". . . . . . . . . . . . . . . . . . . . . . . . . . . . . . \n",
            ". . . . . . . . . . . . . . . . . . . . . . . . . . . . . . \n",
            ". . . . . . . . . . . . . . . . . . . . . . . . . . . . . . \n",
            ". . . . . . . . . . . . . . . . . . . . . . . . . . . . . . \n",
            ". . . . . . . . . . . . . . . . . . . . . . . . . . . . . . \n",
            ". . . . . . . . . . . . . . . . . . . . . . . . . . . . . . \n",
            ". . . . . . . . . . . . . . . . . . . . . . . . . . . . . . \n",
            ". . . . . . . . . . . . . . . . . . . . . . . . . . . . _ . \n"
          ]
        }
      ]
    },
    {
      "cell_type": "code",
      "source": [
        "max_x, max_y"
      ],
      "metadata": {
        "colab": {
          "base_uri": "https://localhost:8080/"
        },
        "id": "o9cwITSmhlOb",
        "outputId": "83d824e4-103f-4fb9-d37d-2968654b3c17"
      },
      "execution_count": 61,
      "outputs": [
        {
          "output_type": "execute_result",
          "data": {
            "text/plain": [
              "(29, 34)"
            ]
          },
          "metadata": {},
          "execution_count": 61
        }
      ]
    },
    {
      "cell_type": "code",
      "source": [
        "13+5+2+5+19+5*28+1"
      ],
      "metadata": {
        "colab": {
          "base_uri": "https://localhost:8080/"
        },
        "id": "SSSbdx8fjVqS",
        "outputId": "2a45e912-37fa-470b-e8dd-2501291d8759"
      },
      "execution_count": 65,
      "outputs": [
        {
          "output_type": "execute_result",
          "data": {
            "text/plain": [
              "185"
            ]
          },
          "metadata": {},
          "execution_count": 65
        }
      ]
    }
  ]
}