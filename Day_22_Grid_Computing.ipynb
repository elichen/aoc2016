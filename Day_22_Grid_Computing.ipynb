{
  "nbformat": 4,
  "nbformat_minor": 0,
  "metadata": {
    "colab": {
      "provenance": [],
      "authorship_tag": "ABX9TyPsO/UhnHaXvWTt6G8zJVJu",
      "include_colab_link": true
    },
    "kernelspec": {
      "name": "python3",
      "display_name": "Python 3"
    },
    "language_info": {
      "name": "python"
    }
  },
  "cells": [
    {
      "cell_type": "markdown",
      "metadata": {
        "id": "view-in-github",
        "colab_type": "text"
      },
      "source": [
        "<a href=\"https://colab.research.google.com/github/elichen/aoc2016/blob/main/Day_22_Grid_Computing.ipynb\" target=\"_parent\"><img src=\"https://colab.research.google.com/assets/colab-badge.svg\" alt=\"Open In Colab\"/></a>"
      ]
    },
    {
      "cell_type": "code",
      "execution_count": 18,
      "metadata": {
        "id": "EoIP_xy8RmZn"
      },
      "outputs": [],
      "source": [
        "data = open(\"input.txt\").read().splitlines()"
      ]
    },
    {
      "cell_type": "code",
      "source": [
        "nodes = []\n",
        "for line in data[2:]:\n",
        "  name, size, used, avail, use_percent = line.split()\n",
        "  name = name[len(\"/dev/grid/\"):]\n",
        "  size = int(size[:-1])\n",
        "  used = int(used[:-1])\n",
        "  avail = int(avail[:-1])\n",
        "  use_percent = int(use_percent[:-1])\n",
        "  nodes.append({\"name\":name, \"size\":size, \"used\":used, \"avail\":avail, \"use_percent\": use_percent})"
      ],
      "metadata": {
        "id": "9HUd55rjTpKD"
      },
      "execution_count": 20,
      "outputs": []
    },
    {
      "cell_type": "code",
      "source": [
        "total = 0\n",
        "for a in nodes:\n",
        "  for b in nodes:\n",
        "    if a[\"name\"] != b[\"name\"]:\n",
        "      if a[\"used\"] != 0 and a[\"used\"] <= b[\"avail\"]:\n",
        "        total += 1\n",
        "total"
      ],
      "metadata": {
        "colab": {
          "base_uri": "https://localhost:8080/"
        },
        "id": "dnVjzoGcU0oJ",
        "outputId": "ecdafd05-8810-4b25-9623-73db91ebe016"
      },
      "execution_count": 23,
      "outputs": [
        {
          "output_type": "execute_result",
          "data": {
            "text/plain": [
              "1043"
            ]
          },
          "metadata": {},
          "execution_count": 23
        }
      ]
    }
  ]
}