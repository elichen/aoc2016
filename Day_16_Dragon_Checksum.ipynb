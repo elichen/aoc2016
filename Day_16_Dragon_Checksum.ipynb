{
  "nbformat": 4,
  "nbformat_minor": 0,
  "metadata": {
    "colab": {
      "provenance": [],
      "authorship_tag": "ABX9TyOjIw8R0Zj8jZjkC+hwNBNB",
      "include_colab_link": true
    },
    "kernelspec": {
      "name": "python3",
      "display_name": "Python 3"
    },
    "language_info": {
      "name": "python"
    }
  },
  "cells": [
    {
      "cell_type": "markdown",
      "metadata": {
        "id": "view-in-github",
        "colab_type": "text"
      },
      "source": [
        "<a href=\"https://colab.research.google.com/github/elichen/aoc2016/blob/main/Day_16_Dragon_Checksum.ipynb\" target=\"_parent\"><img src=\"https://colab.research.google.com/assets/colab-badge.svg\" alt=\"Open In Colab\"/></a>"
      ]
    },
    {
      "cell_type": "code",
      "execution_count": 8,
      "metadata": {
        "id": "jPuuF55jsmLX"
      },
      "outputs": [],
      "source": [
        "def dragon(a, size):\n",
        "  while len(a) < size:\n",
        "    b = a[::-1]\n",
        "    b = ''.join('1' if c == '0' else '0' for c in b)\n",
        "    a = a + \"0\" + b\n",
        "  return a"
      ]
    },
    {
      "cell_type": "code",
      "source": [
        "def checksum(data):\n",
        "  while True:\n",
        "    res = []\n",
        "    for a,b in (data[i:i+2] for i in range(0, len(data), 2)):\n",
        "      res.append(\"1\" if a == b else \"0\")\n",
        "    if len(res) % 2:\n",
        "      break\n",
        "    data = res\n",
        "  return \"\".join(res)"
      ],
      "metadata": {
        "id": "TO4BW4Rhtube"
      },
      "execution_count": 16,
      "outputs": []
    },
    {
      "cell_type": "code",
      "source": [
        "length = 272\n",
        "initial = \"10011111011011001\"\n",
        "s = dragon(initial, length)\n",
        "checksum(s[:length])"
      ],
      "metadata": {
        "colab": {
          "base_uri": "https://localhost:8080/",
          "height": 35
        },
        "id": "A-qSSW-nvPU3",
        "outputId": "d0e5c902-1b17-48a2-90fb-cfe5bb00abcd"
      },
      "execution_count": 18,
      "outputs": [
        {
          "output_type": "execute_result",
          "data": {
            "text/plain": [
              "'10111110010110110'"
            ],
            "application/vnd.google.colaboratory.intrinsic+json": {
              "type": "string"
            }
          },
          "metadata": {},
          "execution_count": 18
        }
      ]
    },
    {
      "cell_type": "code",
      "source": [
        "length = 35651584\n",
        "initial = \"10011111011011001\"\n",
        "s = dragon(initial, length)\n",
        "checksum(s[:length])"
      ],
      "metadata": {
        "colab": {
          "base_uri": "https://localhost:8080/",
          "height": 35
        },
        "id": "qub0rOaiv2g8",
        "outputId": "6451307c-e954-4dac-aeed-d94d54142568"
      },
      "execution_count": 19,
      "outputs": [
        {
          "output_type": "execute_result",
          "data": {
            "text/plain": [
              "'01101100001100100'"
            ],
            "application/vnd.google.colaboratory.intrinsic+json": {
              "type": "string"
            }
          },
          "metadata": {},
          "execution_count": 19
        }
      ]
    }
  ]
}